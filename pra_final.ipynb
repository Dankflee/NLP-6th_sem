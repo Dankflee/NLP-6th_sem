{
 "cells": [
  {
   "cell_type": "code",
   "execution_count": 1,
   "metadata": {},
   "outputs": [],
   "source": [
    "import nltk \n",
    "from nltk.corpus import stopwords\n",
    "from nltk.tokenize import word_tokenize\n",
    "from nltk.stem import PorterStemmer, WordNetLemmatizer\n",
    "from nltk import ne_chunk"
   ]
  },
  {
   "cell_type": "code",
   "execution_count": 3,
   "metadata": {},
   "outputs": [
    {
     "name": "stderr",
     "output_type": "stream",
     "text": [
      "[nltk_data] Downloading package punkt to\n",
      "[nltk_data]     /Users/shreyaspandey/nltk_data...\n",
      "[nltk_data]   Package punkt is already up-to-date!\n",
      "[nltk_data] Downloading package wordnet to\n",
      "[nltk_data]     /Users/shreyaspandey/nltk_data...\n",
      "[nltk_data]   Package wordnet is already up-to-date!\n",
      "[nltk_data] Downloading package stopwords to\n",
      "[nltk_data]     /Users/shreyaspandey/nltk_data...\n",
      "[nltk_data]   Package stopwords is already up-to-date!\n",
      "[nltk_data] Downloading package averaged_perceptron_tagger to\n",
      "[nltk_data]     /Users/shreyaspandey/nltk_data...\n",
      "[nltk_data]   Package averaged_perceptron_tagger is already up-to-\n",
      "[nltk_data]       date!\n",
      "[nltk_data] Downloading package maxent_ne_chunker to\n",
      "[nltk_data]     /Users/shreyaspandey/nltk_data...\n",
      "[nltk_data]   Package maxent_ne_chunker is already up-to-date!\n",
      "[nltk_data] Downloading package words to\n",
      "[nltk_data]     /Users/shreyaspandey/nltk_data...\n",
      "[nltk_data]   Package words is already up-to-date!\n"
     ]
    },
    {
     "data": {
      "text/plain": [
       "True"
      ]
     },
     "execution_count": 3,
     "metadata": {},
     "output_type": "execute_result"
    }
   ],
   "source": [
    "nltk.download('punkt')\n",
    "nltk.download('wordnet')\n",
    "nltk.download('stopwords')\n",
    "nltk.download('averaged_perceptron_tagger')\n",
    "nltk.download('maxent_ne_chunker')\n",
    "nltk.download('words')"
   ]
  },
  {
   "cell_type": "code",
   "execution_count": 4,
   "metadata": {},
   "outputs": [],
   "source": [
    "text = \"\"\"In the ancient land of Greece, nestled among the rugged mountains and shimmering seas, lived a boy named Hercules. From his earliest days, he was destined for greatness, though his path was fraught with trials and tribulations that would shape him into the legendary hero he would become.\n",
    "\n",
    "Born to Alcmene, a mortal woman, and Zeus, the king of the gods, Hercules was imbued with immense strength and courage. However, his divine heritage would bring both blessings and curses upon his life.\n",
    "\n",
    "As a boy, Hercules grew up in the humble village of Tiryns, surrounded by towering cliffs and lush greenery. Despite his extraordinary strength, he was gentle and kind-hearted, always willing to lend a hand to those in need. But as he grew older, his power became more difficult to control, often leading to unintended chaos and destruction.\n",
    "\n",
    "One fateful day, while playing with his friends in the fields, a ferocious lion emerged from the nearby forest, its menacing roar echoing through the valley. The villagers cowered in fear, but Hercules stood his ground, his muscles tensing as he prepared to face the beast.\n",
    "\n",
    "With a mighty roar of his own, Hercules charged forward, his fists clenched tightly as he grappled with the lion. Despite its size and strength, he refused to back down, his determination driving him to overcome the seemingly insurmountable foe.\n",
    "\n",
    "After a fierce struggle, Hercules emerged victorious, the lion lying lifeless at his feet. The villagers cheered his name, hailing him as a hero, but Hercules knew that his journey was far from over. His encounter with the lion was just the beginning of his trials.\n",
    "\n",
    "As he grew into adolescence, Hercules sought to harness his strength for the greater good, embarking on a series of adventures that would test his courage and resilience. From battling fearsome monsters to navigating treacherous landscapes, he faced each challenge with unwavering determination, never faltering in his quest to prove himself worthy of his divine heritage.\n",
    "\n",
    "But amidst his triumphs, Hercules also grappled with the darker aspects of his nature, struggling to control the rage and impulsiveness that often threatened to consume him. His encounters with adversity served as a constant reminder of the fragile balance between his mortal and immortal selves, a balance that he would spend a lifetime trying to reconcile.\n",
    "\n",
    "One of Hercules' most renowned exploits was his Twelve Labors, a series of seemingly impossible tasks bestowed upon him by King Eurystheus as punishment for a crime committed in a fit of madness. From slaying the Nemean Lion to capturing the Golden Hind, each labor pushed Hercules to the limits of his strength and endurance, testing not only his physical prowess but also his ingenuity and resourcefulness.\n",
    "\n",
    "Yet, despite the enormity of his trials, Hercules faced each challenge with unwavering resolve, refusing to be daunted by the obstacles that lay before him. With the help of his loyal companion, Iolaus, and the guidance of the wise centaur Chiron, he persevered through hardship and adversity, emerging victorious time and time again.\n",
    "\n",
    "But perhaps Hercules' greatest trial came in the form of his own mortality, a fate that he could not escape no matter how mighty his strength or how noble his deeds. In a moment of weakness and despair, he unwittingly unleashed his fury upon those he loved most, causing untold suffering and anguish in his wake.\n",
    "\n",
    "Haunted by guilt and remorse, Hercules embarked on a quest for redemption, seeking to atone for his past transgressions and find solace in the embrace of his loved ones. Along the way, he encountered a myriad of challenges and obstacles, each serving as a reminder of the frailty of human nature and the power of forgiveness.\n",
    "\n",
    "In the end, Hercules' journey was not defined by his extraordinary feats or his legendary status, but by the lessons he learned and the bonds he forged along the way. Through hardship and adversity, he discovered the true measure of heroism lies not in the strength of one's arm, but in the courage of one's heart.\n",
    "\n",
    "And so, as Hercules stood upon the precipice of adulthood, gazing out at the vast expanse of the world before him, he knew that his journey was far from over. For the trials that awaited him would not only test his strength and valor but also his resilience and compassion, shaping him into the hero that he was destined to become.\n",
    "\n",
    "As the years passed, Hercules continued to roam the land, seeking out new adventures and challenges wherever they may lie. Along the way, he encountered a diverse array of characters, from noble kings to humble peasants, each teaching him valuable lessons about the nature of humanity and the importance of empathy and understanding.\n",
    "\n",
    "Through his experiences, Hercules grew not only in strength but also in wisdom, learning to temper his power with compassion and humility. No longer driven solely by a desire for glory and recognition, he dedicated himself to serving others, using his gifts to protect the weak and uphold justice wherever he went.\n",
    "\n",
    "But even as he embarked on his quest to make the world a better place, Hercules remained haunted by the ghosts of his past, the memories of his past deeds serving as a constant reminder of the darkness that lurked within him. And yet, it was precisely this darkness that drove him to strive for greater heights, to become the hero that Greece needed in its darkest hour.\n",
    "\n",
    "And so, as Hercules entered into adulthood, he did so not as a mere mortal man, but as a living legend, a symbol of hope and inspiration to all who knew his name. Though his journey had been long and arduous, he knew that the greatest challenges still lay ahead, waiting to test his courage and resolve in ways that he could scarcely imagine.\n",
    "\n",
    "But with the lessons of his youth to guide him and the strength of his heart to sustain him, Hercules faced the future with unwavering determination, ready to embrace whatever trials may come his way. For he knew that true greatness lay not in the glory of victory, but in the courage to face adversity with grace and humility, a lesson that he had learned time and time again on his journey from boyhood to adulthood.\"\"\""
   ]
  },
  {
   "cell_type": "code",
   "execution_count": 5,
   "metadata": {},
   "outputs": [],
   "source": [
    "tokens = word_tokenize(text)\n",
    "#tokenisation on the story"
   ]
  },
  {
   "cell_type": "code",
   "execution_count": 6,
   "metadata": {},
   "outputs": [],
   "source": [
    "stemmer = PorterStemmer()\n",
    "stemmed_tokens =[stemmer.stem(token) for token in tokens]"
   ]
  },
  {
   "cell_type": "code",
   "execution_count": 7,
   "metadata": {},
   "outputs": [],
   "source": [
    "lemmatizer = WordNetLemmatizer()\n",
    "lemmed_words = [lemmatizer.lemmatize(token) for token in tokens]"
   ]
  },
  {
   "cell_type": "code",
   "execution_count": 8,
   "metadata": {},
   "outputs": [],
   "source": [
    "stop_words = set(stopwords.words('english'))\n",
    "filter_of_words = [token for token in tokens if token.lower() not in stop_words]\n",
    "\n",
    "#added a layer of filter by removing common used words"
   ]
  },
  {
   "cell_type": "code",
   "execution_count": 9,
   "metadata": {},
   "outputs": [],
   "source": [
    "pos_tag = nltk.pos_tag(tokens)"
   ]
  },
  {
   "cell_type": "code",
   "execution_count": 10,
   "metadata": {},
   "outputs": [],
   "source": [
    "ner_tags = ne_chunk(pos_tag)"
   ]
  },
  {
   "cell_type": "code",
   "execution_count": 11,
   "metadata": {},
   "outputs": [
    {
     "name": "stdout",
     "output_type": "stream",
     "text": [
      "Tokens: ['In', 'the', 'ancient', 'land', 'of', 'Greece', ',', 'nestled', 'among', 'the', 'rugged', 'mountains', 'and', 'shimmering', 'seas', ',', 'lived', 'a', 'boy', 'named', 'Hercules', '.', 'From', 'his', 'earliest', 'days', ',', 'he', 'was', 'destined', 'for', 'greatness', ',', 'though', 'his', 'path', 'was', 'fraught', 'with', 'trials', 'and', 'tribulations', 'that', 'would', 'shape', 'him', 'into', 'the', 'legendary', 'hero', 'he', 'would', 'become', '.', 'Born', 'to', 'Alcmene', ',', 'a', 'mortal', 'woman', ',', 'and', 'Zeus', ',', 'the', 'king', 'of', 'the', 'gods', ',', 'Hercules', 'was', 'imbued', 'with', 'immense', 'strength', 'and', 'courage', '.', 'However', ',', 'his', 'divine', 'heritage', 'would', 'bring', 'both', 'blessings', 'and', 'curses', 'upon', 'his', 'life', '.', 'As', 'a', 'boy', ',', 'Hercules', 'grew', 'up', 'in', 'the', 'humble', 'village', 'of', 'Tiryns', ',', 'surrounded', 'by', 'towering', 'cliffs', 'and', 'lush', 'greenery', '.', 'Despite', 'his', 'extraordinary', 'strength', ',', 'he', 'was', 'gentle', 'and', 'kind-hearted', ',', 'always', 'willing', 'to', 'lend', 'a', 'hand', 'to', 'those', 'in', 'need', '.', 'But', 'as', 'he', 'grew', 'older', ',', 'his', 'power', 'became', 'more', 'difficult', 'to', 'control', ',', 'often', 'leading', 'to', 'unintended', 'chaos', 'and', 'destruction', '.', 'One', 'fateful', 'day', ',', 'while', 'playing', 'with', 'his', 'friends', 'in', 'the', 'fields', ',', 'a', 'ferocious', 'lion', 'emerged', 'from', 'the', 'nearby', 'forest', ',', 'its', 'menacing', 'roar', 'echoing', 'through', 'the', 'valley', '.', 'The', 'villagers', 'cowered', 'in', 'fear', ',', 'but', 'Hercules', 'stood', 'his', 'ground', ',', 'his', 'muscles', 'tensing', 'as', 'he', 'prepared', 'to', 'face', 'the', 'beast', '.', 'With', 'a', 'mighty', 'roar', 'of', 'his', 'own', ',', 'Hercules', 'charged', 'forward', ',', 'his', 'fists', 'clenched', 'tightly', 'as', 'he', 'grappled', 'with', 'the', 'lion', '.', 'Despite', 'its', 'size', 'and', 'strength', ',', 'he', 'refused', 'to', 'back', 'down', ',', 'his', 'determination', 'driving', 'him', 'to', 'overcome', 'the', 'seemingly', 'insurmountable', 'foe', '.', 'After', 'a', 'fierce', 'struggle', ',', 'Hercules', 'emerged', 'victorious', ',', 'the', 'lion', 'lying', 'lifeless', 'at', 'his', 'feet', '.', 'The', 'villagers', 'cheered', 'his', 'name', ',', 'hailing', 'him', 'as', 'a', 'hero', ',', 'but', 'Hercules', 'knew', 'that', 'his', 'journey', 'was', 'far', 'from', 'over', '.', 'His', 'encounter', 'with', 'the', 'lion', 'was', 'just', 'the', 'beginning', 'of', 'his', 'trials', '.', 'As', 'he', 'grew', 'into', 'adolescence', ',', 'Hercules', 'sought', 'to', 'harness', 'his', 'strength', 'for', 'the', 'greater', 'good', ',', 'embarking', 'on', 'a', 'series', 'of', 'adventures', 'that', 'would', 'test', 'his', 'courage', 'and', 'resilience', '.', 'From', 'battling', 'fearsome', 'monsters', 'to', 'navigating', 'treacherous', 'landscapes', ',', 'he', 'faced', 'each', 'challenge', 'with', 'unwavering', 'determination', ',', 'never', 'faltering', 'in', 'his', 'quest', 'to', 'prove', 'himself', 'worthy', 'of', 'his', 'divine', 'heritage', '.', 'But', 'amidst', 'his', 'triumphs', ',', 'Hercules', 'also', 'grappled', 'with', 'the', 'darker', 'aspects', 'of', 'his', 'nature', ',', 'struggling', 'to', 'control', 'the', 'rage', 'and', 'impulsiveness', 'that', 'often', 'threatened', 'to', 'consume', 'him', '.', 'His', 'encounters', 'with', 'adversity', 'served', 'as', 'a', 'constant', 'reminder', 'of', 'the', 'fragile', 'balance', 'between', 'his', 'mortal', 'and', 'immortal', 'selves', ',', 'a', 'balance', 'that', 'he', 'would', 'spend', 'a', 'lifetime', 'trying', 'to', 'reconcile', '.', 'One', 'of', 'Hercules', \"'\", 'most', 'renowned', 'exploits', 'was', 'his', 'Twelve', 'Labors', ',', 'a', 'series', 'of', 'seemingly', 'impossible', 'tasks', 'bestowed', 'upon', 'him', 'by', 'King', 'Eurystheus', 'as', 'punishment', 'for', 'a', 'crime', 'committed', 'in', 'a', 'fit', 'of', 'madness', '.', 'From', 'slaying', 'the', 'Nemean', 'Lion', 'to', 'capturing', 'the', 'Golden', 'Hind', ',', 'each', 'labor', 'pushed', 'Hercules', 'to', 'the', 'limits', 'of', 'his', 'strength', 'and', 'endurance', ',', 'testing', 'not', 'only', 'his', 'physical', 'prowess', 'but', 'also', 'his', 'ingenuity', 'and', 'resourcefulness', '.', 'Yet', ',', 'despite', 'the', 'enormity', 'of', 'his', 'trials', ',', 'Hercules', 'faced', 'each', 'challenge', 'with', 'unwavering', 'resolve', ',', 'refusing', 'to', 'be', 'daunted', 'by', 'the', 'obstacles', 'that', 'lay', 'before', 'him', '.', 'With', 'the', 'help', 'of', 'his', 'loyal', 'companion', ',', 'Iolaus', ',', 'and', 'the', 'guidance', 'of', 'the', 'wise', 'centaur', 'Chiron', ',', 'he', 'persevered', 'through', 'hardship', 'and', 'adversity', ',', 'emerging', 'victorious', 'time', 'and', 'time', 'again', '.', 'But', 'perhaps', 'Hercules', \"'\", 'greatest', 'trial', 'came', 'in', 'the', 'form', 'of', 'his', 'own', 'mortality', ',', 'a', 'fate', 'that', 'he', 'could', 'not', 'escape', 'no', 'matter', 'how', 'mighty', 'his', 'strength', 'or', 'how', 'noble', 'his', 'deeds', '.', 'In', 'a', 'moment', 'of', 'weakness', 'and', 'despair', ',', 'he', 'unwittingly', 'unleashed', 'his', 'fury', 'upon', 'those', 'he', 'loved', 'most', ',', 'causing', 'untold', 'suffering', 'and', 'anguish', 'in', 'his', 'wake', '.', 'Haunted', 'by', 'guilt', 'and', 'remorse', ',', 'Hercules', 'embarked', 'on', 'a', 'quest', 'for', 'redemption', ',', 'seeking', 'to', 'atone', 'for', 'his', 'past', 'transgressions', 'and', 'find', 'solace', 'in', 'the', 'embrace', 'of', 'his', 'loved', 'ones', '.', 'Along', 'the', 'way', ',', 'he', 'encountered', 'a', 'myriad', 'of', 'challenges', 'and', 'obstacles', ',', 'each', 'serving', 'as', 'a', 'reminder', 'of', 'the', 'frailty', 'of', 'human', 'nature', 'and', 'the', 'power', 'of', 'forgiveness', '.', 'In', 'the', 'end', ',', 'Hercules', \"'\", 'journey', 'was', 'not', 'defined', 'by', 'his', 'extraordinary', 'feats', 'or', 'his', 'legendary', 'status', ',', 'but', 'by', 'the', 'lessons', 'he', 'learned', 'and', 'the', 'bonds', 'he', 'forged', 'along', 'the', 'way', '.', 'Through', 'hardship', 'and', 'adversity', ',', 'he', 'discovered', 'the', 'true', 'measure', 'of', 'heroism', 'lies', 'not', 'in', 'the', 'strength', 'of', 'one', \"'s\", 'arm', ',', 'but', 'in', 'the', 'courage', 'of', 'one', \"'s\", 'heart', '.', 'And', 'so', ',', 'as', 'Hercules', 'stood', 'upon', 'the', 'precipice', 'of', 'adulthood', ',', 'gazing', 'out', 'at', 'the', 'vast', 'expanse', 'of', 'the', 'world', 'before', 'him', ',', 'he', 'knew', 'that', 'his', 'journey', 'was', 'far', 'from', 'over', '.', 'For', 'the', 'trials', 'that', 'awaited', 'him', 'would', 'not', 'only', 'test', 'his', 'strength', 'and', 'valor', 'but', 'also', 'his', 'resilience', 'and', 'compassion', ',', 'shaping', 'him', 'into', 'the', 'hero', 'that', 'he', 'was', 'destined', 'to', 'become', '.', 'As', 'the', 'years', 'passed', ',', 'Hercules', 'continued', 'to', 'roam', 'the', 'land', ',', 'seeking', 'out', 'new', 'adventures', 'and', 'challenges', 'wherever', 'they', 'may', 'lie', '.', 'Along', 'the', 'way', ',', 'he', 'encountered', 'a', 'diverse', 'array', 'of', 'characters', ',', 'from', 'noble', 'kings', 'to', 'humble', 'peasants', ',', 'each', 'teaching', 'him', 'valuable', 'lessons', 'about', 'the', 'nature', 'of', 'humanity', 'and', 'the', 'importance', 'of', 'empathy', 'and', 'understanding', '.', 'Through', 'his', 'experiences', ',', 'Hercules', 'grew', 'not', 'only', 'in', 'strength', 'but', 'also', 'in', 'wisdom', ',', 'learning', 'to', 'temper', 'his', 'power', 'with', 'compassion', 'and', 'humility', '.', 'No', 'longer', 'driven', 'solely', 'by', 'a', 'desire', 'for', 'glory', 'and', 'recognition', ',', 'he', 'dedicated', 'himself', 'to', 'serving', 'others', ',', 'using', 'his', 'gifts', 'to', 'protect', 'the', 'weak', 'and', 'uphold', 'justice', 'wherever', 'he', 'went', '.', 'But', 'even', 'as', 'he', 'embarked', 'on', 'his', 'quest', 'to', 'make', 'the', 'world', 'a', 'better', 'place', ',', 'Hercules', 'remained', 'haunted', 'by', 'the', 'ghosts', 'of', 'his', 'past', ',', 'the', 'memories', 'of', 'his', 'past', 'deeds', 'serving', 'as', 'a', 'constant', 'reminder', 'of', 'the', 'darkness', 'that', 'lurked', 'within', 'him', '.', 'And', 'yet', ',', 'it', 'was', 'precisely', 'this', 'darkness', 'that', 'drove', 'him', 'to', 'strive', 'for', 'greater', 'heights', ',', 'to', 'become', 'the', 'hero', 'that', 'Greece', 'needed', 'in', 'its', 'darkest', 'hour', '.', 'And', 'so', ',', 'as', 'Hercules', 'entered', 'into', 'adulthood', ',', 'he', 'did', 'so', 'not', 'as', 'a', 'mere', 'mortal', 'man', ',', 'but', 'as', 'a', 'living', 'legend', ',', 'a', 'symbol', 'of', 'hope', 'and', 'inspiration', 'to', 'all', 'who', 'knew', 'his', 'name', '.', 'Though', 'his', 'journey', 'had', 'been', 'long', 'and', 'arduous', ',', 'he', 'knew', 'that', 'the', 'greatest', 'challenges', 'still', 'lay', 'ahead', ',', 'waiting', 'to', 'test', 'his', 'courage', 'and', 'resolve', 'in', 'ways', 'that', 'he', 'could', 'scarcely', 'imagine', '.', 'But', 'with', 'the', 'lessons', 'of', 'his', 'youth', 'to', 'guide', 'him', 'and', 'the', 'strength', 'of', 'his', 'heart', 'to', 'sustain', 'him', ',', 'Hercules', 'faced', 'the', 'future', 'with', 'unwavering', 'determination', ',', 'ready', 'to', 'embrace', 'whatever', 'trials', 'may', 'come', 'his', 'way', '.', 'For', 'he', 'knew', 'that', 'true', 'greatness', 'lay', 'not', 'in', 'the', 'glory', 'of', 'victory', ',', 'but', 'in', 'the', 'courage', 'to', 'face', 'adversity', 'with', 'grace', 'and', 'humility', ',', 'a', 'lesson', 'that', 'he', 'had', 'learned', 'time', 'and', 'time', 'again', 'on', 'his', 'journey', 'from', 'boyhood', 'to', 'adulthood', '.']\n"
     ]
    }
   ],
   "source": [
    "print(\"Tokens:\", tokens)"
   ]
  },
  {
   "cell_type": "code",
   "execution_count": 12,
   "metadata": {},
   "outputs": [
    {
     "name": "stdout",
     "output_type": "stream",
     "text": [
      "Stemmed Tokens: ['in', 'the', 'ancient', 'land', 'of', 'greec', ',', 'nestl', 'among', 'the', 'rug', 'mountain', 'and', 'shimmer', 'sea', ',', 'live', 'a', 'boy', 'name', 'hercul', '.', 'from', 'hi', 'earliest', 'day', ',', 'he', 'wa', 'destin', 'for', 'great', ',', 'though', 'hi', 'path', 'wa', 'fraught', 'with', 'trial', 'and', 'tribul', 'that', 'would', 'shape', 'him', 'into', 'the', 'legendari', 'hero', 'he', 'would', 'becom', '.', 'born', 'to', 'alcmen', ',', 'a', 'mortal', 'woman', ',', 'and', 'zeu', ',', 'the', 'king', 'of', 'the', 'god', ',', 'hercul', 'wa', 'imbu', 'with', 'immens', 'strength', 'and', 'courag', '.', 'howev', ',', 'hi', 'divin', 'heritag', 'would', 'bring', 'both', 'bless', 'and', 'curs', 'upon', 'hi', 'life', '.', 'as', 'a', 'boy', ',', 'hercul', 'grew', 'up', 'in', 'the', 'humbl', 'villag', 'of', 'tiryn', ',', 'surround', 'by', 'tower', 'cliff', 'and', 'lush', 'greeneri', '.', 'despit', 'hi', 'extraordinari', 'strength', ',', 'he', 'wa', 'gentl', 'and', 'kind-heart', ',', 'alway', 'will', 'to', 'lend', 'a', 'hand', 'to', 'those', 'in', 'need', '.', 'but', 'as', 'he', 'grew', 'older', ',', 'hi', 'power', 'becam', 'more', 'difficult', 'to', 'control', ',', 'often', 'lead', 'to', 'unintend', 'chao', 'and', 'destruct', '.', 'one', 'fate', 'day', ',', 'while', 'play', 'with', 'hi', 'friend', 'in', 'the', 'field', ',', 'a', 'feroci', 'lion', 'emerg', 'from', 'the', 'nearbi', 'forest', ',', 'it', 'menac', 'roar', 'echo', 'through', 'the', 'valley', '.', 'the', 'villag', 'cower', 'in', 'fear', ',', 'but', 'hercul', 'stood', 'hi', 'ground', ',', 'hi', 'muscl', 'tens', 'as', 'he', 'prepar', 'to', 'face', 'the', 'beast', '.', 'with', 'a', 'mighti', 'roar', 'of', 'hi', 'own', ',', 'hercul', 'charg', 'forward', ',', 'hi', 'fist', 'clench', 'tightli', 'as', 'he', 'grappl', 'with', 'the', 'lion', '.', 'despit', 'it', 'size', 'and', 'strength', ',', 'he', 'refus', 'to', 'back', 'down', ',', 'hi', 'determin', 'drive', 'him', 'to', 'overcom', 'the', 'seemingli', 'insurmount', 'foe', '.', 'after', 'a', 'fierc', 'struggl', ',', 'hercul', 'emerg', 'victori', ',', 'the', 'lion', 'lie', 'lifeless', 'at', 'hi', 'feet', '.', 'the', 'villag', 'cheer', 'hi', 'name', ',', 'hail', 'him', 'as', 'a', 'hero', ',', 'but', 'hercul', 'knew', 'that', 'hi', 'journey', 'wa', 'far', 'from', 'over', '.', 'hi', 'encount', 'with', 'the', 'lion', 'wa', 'just', 'the', 'begin', 'of', 'hi', 'trial', '.', 'as', 'he', 'grew', 'into', 'adolesc', ',', 'hercul', 'sought', 'to', 'har', 'hi', 'strength', 'for', 'the', 'greater', 'good', ',', 'embark', 'on', 'a', 'seri', 'of', 'adventur', 'that', 'would', 'test', 'hi', 'courag', 'and', 'resili', '.', 'from', 'battl', 'fearsom', 'monster', 'to', 'navig', 'treacher', 'landscap', ',', 'he', 'face', 'each', 'challeng', 'with', 'unwav', 'determin', ',', 'never', 'falter', 'in', 'hi', 'quest', 'to', 'prove', 'himself', 'worthi', 'of', 'hi', 'divin', 'heritag', '.', 'but', 'amidst', 'hi', 'triumph', ',', 'hercul', 'also', 'grappl', 'with', 'the', 'darker', 'aspect', 'of', 'hi', 'natur', ',', 'struggl', 'to', 'control', 'the', 'rage', 'and', 'impuls', 'that', 'often', 'threaten', 'to', 'consum', 'him', '.', 'hi', 'encount', 'with', 'advers', 'serv', 'as', 'a', 'constant', 'remind', 'of', 'the', 'fragil', 'balanc', 'between', 'hi', 'mortal', 'and', 'immort', 'selv', ',', 'a', 'balanc', 'that', 'he', 'would', 'spend', 'a', 'lifetim', 'tri', 'to', 'reconcil', '.', 'one', 'of', 'hercul', \"'\", 'most', 'renown', 'exploit', 'wa', 'hi', 'twelv', 'labor', ',', 'a', 'seri', 'of', 'seemingli', 'imposs', 'task', 'bestow', 'upon', 'him', 'by', 'king', 'eurystheu', 'as', 'punish', 'for', 'a', 'crime', 'commit', 'in', 'a', 'fit', 'of', 'mad', '.', 'from', 'slay', 'the', 'nemean', 'lion', 'to', 'captur', 'the', 'golden', 'hind', ',', 'each', 'labor', 'push', 'hercul', 'to', 'the', 'limit', 'of', 'hi', 'strength', 'and', 'endur', ',', 'test', 'not', 'onli', 'hi', 'physic', 'prowess', 'but', 'also', 'hi', 'ingenu', 'and', 'resourc', '.', 'yet', ',', 'despit', 'the', 'enorm', 'of', 'hi', 'trial', ',', 'hercul', 'face', 'each', 'challeng', 'with', 'unwav', 'resolv', ',', 'refus', 'to', 'be', 'daunt', 'by', 'the', 'obstacl', 'that', 'lay', 'befor', 'him', '.', 'with', 'the', 'help', 'of', 'hi', 'loyal', 'companion', ',', 'iolau', ',', 'and', 'the', 'guidanc', 'of', 'the', 'wise', 'centaur', 'chiron', ',', 'he', 'persev', 'through', 'hardship', 'and', 'advers', ',', 'emerg', 'victori', 'time', 'and', 'time', 'again', '.', 'but', 'perhap', 'hercul', \"'\", 'greatest', 'trial', 'came', 'in', 'the', 'form', 'of', 'hi', 'own', 'mortal', ',', 'a', 'fate', 'that', 'he', 'could', 'not', 'escap', 'no', 'matter', 'how', 'mighti', 'hi', 'strength', 'or', 'how', 'nobl', 'hi', 'deed', '.', 'in', 'a', 'moment', 'of', 'weak', 'and', 'despair', ',', 'he', 'unwittingli', 'unleash', 'hi', 'furi', 'upon', 'those', 'he', 'love', 'most', ',', 'caus', 'untold', 'suffer', 'and', 'anguish', 'in', 'hi', 'wake', '.', 'haunt', 'by', 'guilt', 'and', 'remors', ',', 'hercul', 'embark', 'on', 'a', 'quest', 'for', 'redempt', ',', 'seek', 'to', 'aton', 'for', 'hi', 'past', 'transgress', 'and', 'find', 'solac', 'in', 'the', 'embrac', 'of', 'hi', 'love', 'one', '.', 'along', 'the', 'way', ',', 'he', 'encount', 'a', 'myriad', 'of', 'challeng', 'and', 'obstacl', ',', 'each', 'serv', 'as', 'a', 'remind', 'of', 'the', 'frailti', 'of', 'human', 'natur', 'and', 'the', 'power', 'of', 'forgiv', '.', 'in', 'the', 'end', ',', 'hercul', \"'\", 'journey', 'wa', 'not', 'defin', 'by', 'hi', 'extraordinari', 'feat', 'or', 'hi', 'legendari', 'statu', ',', 'but', 'by', 'the', 'lesson', 'he', 'learn', 'and', 'the', 'bond', 'he', 'forg', 'along', 'the', 'way', '.', 'through', 'hardship', 'and', 'advers', ',', 'he', 'discov', 'the', 'true', 'measur', 'of', 'heroism', 'lie', 'not', 'in', 'the', 'strength', 'of', 'one', \"'s\", 'arm', ',', 'but', 'in', 'the', 'courag', 'of', 'one', \"'s\", 'heart', '.', 'and', 'so', ',', 'as', 'hercul', 'stood', 'upon', 'the', 'precipic', 'of', 'adulthood', ',', 'gaze', 'out', 'at', 'the', 'vast', 'expans', 'of', 'the', 'world', 'befor', 'him', ',', 'he', 'knew', 'that', 'hi', 'journey', 'wa', 'far', 'from', 'over', '.', 'for', 'the', 'trial', 'that', 'await', 'him', 'would', 'not', 'onli', 'test', 'hi', 'strength', 'and', 'valor', 'but', 'also', 'hi', 'resili', 'and', 'compass', ',', 'shape', 'him', 'into', 'the', 'hero', 'that', 'he', 'wa', 'destin', 'to', 'becom', '.', 'as', 'the', 'year', 'pass', ',', 'hercul', 'continu', 'to', 'roam', 'the', 'land', ',', 'seek', 'out', 'new', 'adventur', 'and', 'challeng', 'wherev', 'they', 'may', 'lie', '.', 'along', 'the', 'way', ',', 'he', 'encount', 'a', 'divers', 'array', 'of', 'charact', ',', 'from', 'nobl', 'king', 'to', 'humbl', 'peasant', ',', 'each', 'teach', 'him', 'valuabl', 'lesson', 'about', 'the', 'natur', 'of', 'human', 'and', 'the', 'import', 'of', 'empathi', 'and', 'understand', '.', 'through', 'hi', 'experi', ',', 'hercul', 'grew', 'not', 'onli', 'in', 'strength', 'but', 'also', 'in', 'wisdom', ',', 'learn', 'to', 'temper', 'hi', 'power', 'with', 'compass', 'and', 'humil', '.', 'no', 'longer', 'driven', 'sole', 'by', 'a', 'desir', 'for', 'glori', 'and', 'recognit', ',', 'he', 'dedic', 'himself', 'to', 'serv', 'other', ',', 'use', 'hi', 'gift', 'to', 'protect', 'the', 'weak', 'and', 'uphold', 'justic', 'wherev', 'he', 'went', '.', 'but', 'even', 'as', 'he', 'embark', 'on', 'hi', 'quest', 'to', 'make', 'the', 'world', 'a', 'better', 'place', ',', 'hercul', 'remain', 'haunt', 'by', 'the', 'ghost', 'of', 'hi', 'past', ',', 'the', 'memori', 'of', 'hi', 'past', 'deed', 'serv', 'as', 'a', 'constant', 'remind', 'of', 'the', 'dark', 'that', 'lurk', 'within', 'him', '.', 'and', 'yet', ',', 'it', 'wa', 'precis', 'thi', 'dark', 'that', 'drove', 'him', 'to', 'strive', 'for', 'greater', 'height', ',', 'to', 'becom', 'the', 'hero', 'that', 'greec', 'need', 'in', 'it', 'darkest', 'hour', '.', 'and', 'so', ',', 'as', 'hercul', 'enter', 'into', 'adulthood', ',', 'he', 'did', 'so', 'not', 'as', 'a', 'mere', 'mortal', 'man', ',', 'but', 'as', 'a', 'live', 'legend', ',', 'a', 'symbol', 'of', 'hope', 'and', 'inspir', 'to', 'all', 'who', 'knew', 'hi', 'name', '.', 'though', 'hi', 'journey', 'had', 'been', 'long', 'and', 'arduou', ',', 'he', 'knew', 'that', 'the', 'greatest', 'challeng', 'still', 'lay', 'ahead', ',', 'wait', 'to', 'test', 'hi', 'courag', 'and', 'resolv', 'in', 'way', 'that', 'he', 'could', 'scarc', 'imagin', '.', 'but', 'with', 'the', 'lesson', 'of', 'hi', 'youth', 'to', 'guid', 'him', 'and', 'the', 'strength', 'of', 'hi', 'heart', 'to', 'sustain', 'him', ',', 'hercul', 'face', 'the', 'futur', 'with', 'unwav', 'determin', ',', 'readi', 'to', 'embrac', 'whatev', 'trial', 'may', 'come', 'hi', 'way', '.', 'for', 'he', 'knew', 'that', 'true', 'great', 'lay', 'not', 'in', 'the', 'glori', 'of', 'victori', ',', 'but', 'in', 'the', 'courag', 'to', 'face', 'advers', 'with', 'grace', 'and', 'humil', ',', 'a', 'lesson', 'that', 'he', 'had', 'learn', 'time', 'and', 'time', 'again', 'on', 'hi', 'journey', 'from', 'boyhood', 'to', 'adulthood', '.']\n"
     ]
    }
   ],
   "source": [
    "print(\"Stemmed Tokens:\", stemmed_tokens)"
   ]
  },
  {
   "cell_type": "code",
   "execution_count": 14,
   "metadata": {},
   "outputs": [
    {
     "name": "stdout",
     "output_type": "stream",
     "text": [
      "Lemmatized Tokens: ['In', 'the', 'ancient', 'land', 'of', 'Greece', ',', 'nestled', 'among', 'the', 'rugged', 'mountain', 'and', 'shimmering', 'sea', ',', 'lived', 'a', 'boy', 'named', 'Hercules', '.', 'From', 'his', 'earliest', 'day', ',', 'he', 'wa', 'destined', 'for', 'greatness', ',', 'though', 'his', 'path', 'wa', 'fraught', 'with', 'trial', 'and', 'tribulation', 'that', 'would', 'shape', 'him', 'into', 'the', 'legendary', 'hero', 'he', 'would', 'become', '.', 'Born', 'to', 'Alcmene', ',', 'a', 'mortal', 'woman', ',', 'and', 'Zeus', ',', 'the', 'king', 'of', 'the', 'god', ',', 'Hercules', 'wa', 'imbued', 'with', 'immense', 'strength', 'and', 'courage', '.', 'However', ',', 'his', 'divine', 'heritage', 'would', 'bring', 'both', 'blessing', 'and', 'curse', 'upon', 'his', 'life', '.', 'As', 'a', 'boy', ',', 'Hercules', 'grew', 'up', 'in', 'the', 'humble', 'village', 'of', 'Tiryns', ',', 'surrounded', 'by', 'towering', 'cliff', 'and', 'lush', 'greenery', '.', 'Despite', 'his', 'extraordinary', 'strength', ',', 'he', 'wa', 'gentle', 'and', 'kind-hearted', ',', 'always', 'willing', 'to', 'lend', 'a', 'hand', 'to', 'those', 'in', 'need', '.', 'But', 'a', 'he', 'grew', 'older', ',', 'his', 'power', 'became', 'more', 'difficult', 'to', 'control', ',', 'often', 'leading', 'to', 'unintended', 'chaos', 'and', 'destruction', '.', 'One', 'fateful', 'day', ',', 'while', 'playing', 'with', 'his', 'friend', 'in', 'the', 'field', ',', 'a', 'ferocious', 'lion', 'emerged', 'from', 'the', 'nearby', 'forest', ',', 'it', 'menacing', 'roar', 'echoing', 'through', 'the', 'valley', '.', 'The', 'villager', 'cowered', 'in', 'fear', ',', 'but', 'Hercules', 'stood', 'his', 'ground', ',', 'his', 'muscle', 'tensing', 'a', 'he', 'prepared', 'to', 'face', 'the', 'beast', '.', 'With', 'a', 'mighty', 'roar', 'of', 'his', 'own', ',', 'Hercules', 'charged', 'forward', ',', 'his', 'fist', 'clenched', 'tightly', 'a', 'he', 'grappled', 'with', 'the', 'lion', '.', 'Despite', 'it', 'size', 'and', 'strength', ',', 'he', 'refused', 'to', 'back', 'down', ',', 'his', 'determination', 'driving', 'him', 'to', 'overcome', 'the', 'seemingly', 'insurmountable', 'foe', '.', 'After', 'a', 'fierce', 'struggle', ',', 'Hercules', 'emerged', 'victorious', ',', 'the', 'lion', 'lying', 'lifeless', 'at', 'his', 'foot', '.', 'The', 'villager', 'cheered', 'his', 'name', ',', 'hailing', 'him', 'a', 'a', 'hero', ',', 'but', 'Hercules', 'knew', 'that', 'his', 'journey', 'wa', 'far', 'from', 'over', '.', 'His', 'encounter', 'with', 'the', 'lion', 'wa', 'just', 'the', 'beginning', 'of', 'his', 'trial', '.', 'As', 'he', 'grew', 'into', 'adolescence', ',', 'Hercules', 'sought', 'to', 'harness', 'his', 'strength', 'for', 'the', 'greater', 'good', ',', 'embarking', 'on', 'a', 'series', 'of', 'adventure', 'that', 'would', 'test', 'his', 'courage', 'and', 'resilience', '.', 'From', 'battling', 'fearsome', 'monster', 'to', 'navigating', 'treacherous', 'landscape', ',', 'he', 'faced', 'each', 'challenge', 'with', 'unwavering', 'determination', ',', 'never', 'faltering', 'in', 'his', 'quest', 'to', 'prove', 'himself', 'worthy', 'of', 'his', 'divine', 'heritage', '.', 'But', 'amidst', 'his', 'triumph', ',', 'Hercules', 'also', 'grappled', 'with', 'the', 'darker', 'aspect', 'of', 'his', 'nature', ',', 'struggling', 'to', 'control', 'the', 'rage', 'and', 'impulsiveness', 'that', 'often', 'threatened', 'to', 'consume', 'him', '.', 'His', 'encounter', 'with', 'adversity', 'served', 'a', 'a', 'constant', 'reminder', 'of', 'the', 'fragile', 'balance', 'between', 'his', 'mortal', 'and', 'immortal', 'self', ',', 'a', 'balance', 'that', 'he', 'would', 'spend', 'a', 'lifetime', 'trying', 'to', 'reconcile', '.', 'One', 'of', 'Hercules', \"'\", 'most', 'renowned', 'exploit', 'wa', 'his', 'Twelve', 'Labors', ',', 'a', 'series', 'of', 'seemingly', 'impossible', 'task', 'bestowed', 'upon', 'him', 'by', 'King', 'Eurystheus', 'a', 'punishment', 'for', 'a', 'crime', 'committed', 'in', 'a', 'fit', 'of', 'madness', '.', 'From', 'slaying', 'the', 'Nemean', 'Lion', 'to', 'capturing', 'the', 'Golden', 'Hind', ',', 'each', 'labor', 'pushed', 'Hercules', 'to', 'the', 'limit', 'of', 'his', 'strength', 'and', 'endurance', ',', 'testing', 'not', 'only', 'his', 'physical', 'prowess', 'but', 'also', 'his', 'ingenuity', 'and', 'resourcefulness', '.', 'Yet', ',', 'despite', 'the', 'enormity', 'of', 'his', 'trial', ',', 'Hercules', 'faced', 'each', 'challenge', 'with', 'unwavering', 'resolve', ',', 'refusing', 'to', 'be', 'daunted', 'by', 'the', 'obstacle', 'that', 'lay', 'before', 'him', '.', 'With', 'the', 'help', 'of', 'his', 'loyal', 'companion', ',', 'Iolaus', ',', 'and', 'the', 'guidance', 'of', 'the', 'wise', 'centaur', 'Chiron', ',', 'he', 'persevered', 'through', 'hardship', 'and', 'adversity', ',', 'emerging', 'victorious', 'time', 'and', 'time', 'again', '.', 'But', 'perhaps', 'Hercules', \"'\", 'greatest', 'trial', 'came', 'in', 'the', 'form', 'of', 'his', 'own', 'mortality', ',', 'a', 'fate', 'that', 'he', 'could', 'not', 'escape', 'no', 'matter', 'how', 'mighty', 'his', 'strength', 'or', 'how', 'noble', 'his', 'deed', '.', 'In', 'a', 'moment', 'of', 'weakness', 'and', 'despair', ',', 'he', 'unwittingly', 'unleashed', 'his', 'fury', 'upon', 'those', 'he', 'loved', 'most', ',', 'causing', 'untold', 'suffering', 'and', 'anguish', 'in', 'his', 'wake', '.', 'Haunted', 'by', 'guilt', 'and', 'remorse', ',', 'Hercules', 'embarked', 'on', 'a', 'quest', 'for', 'redemption', ',', 'seeking', 'to', 'atone', 'for', 'his', 'past', 'transgression', 'and', 'find', 'solace', 'in', 'the', 'embrace', 'of', 'his', 'loved', 'one', '.', 'Along', 'the', 'way', ',', 'he', 'encountered', 'a', 'myriad', 'of', 'challenge', 'and', 'obstacle', ',', 'each', 'serving', 'a', 'a', 'reminder', 'of', 'the', 'frailty', 'of', 'human', 'nature', 'and', 'the', 'power', 'of', 'forgiveness', '.', 'In', 'the', 'end', ',', 'Hercules', \"'\", 'journey', 'wa', 'not', 'defined', 'by', 'his', 'extraordinary', 'feat', 'or', 'his', 'legendary', 'status', ',', 'but', 'by', 'the', 'lesson', 'he', 'learned', 'and', 'the', 'bond', 'he', 'forged', 'along', 'the', 'way', '.', 'Through', 'hardship', 'and', 'adversity', ',', 'he', 'discovered', 'the', 'true', 'measure', 'of', 'heroism', 'lie', 'not', 'in', 'the', 'strength', 'of', 'one', \"'s\", 'arm', ',', 'but', 'in', 'the', 'courage', 'of', 'one', \"'s\", 'heart', '.', 'And', 'so', ',', 'a', 'Hercules', 'stood', 'upon', 'the', 'precipice', 'of', 'adulthood', ',', 'gazing', 'out', 'at', 'the', 'vast', 'expanse', 'of', 'the', 'world', 'before', 'him', ',', 'he', 'knew', 'that', 'his', 'journey', 'wa', 'far', 'from', 'over', '.', 'For', 'the', 'trial', 'that', 'awaited', 'him', 'would', 'not', 'only', 'test', 'his', 'strength', 'and', 'valor', 'but', 'also', 'his', 'resilience', 'and', 'compassion', ',', 'shaping', 'him', 'into', 'the', 'hero', 'that', 'he', 'wa', 'destined', 'to', 'become', '.', 'As', 'the', 'year', 'passed', ',', 'Hercules', 'continued', 'to', 'roam', 'the', 'land', ',', 'seeking', 'out', 'new', 'adventure', 'and', 'challenge', 'wherever', 'they', 'may', 'lie', '.', 'Along', 'the', 'way', ',', 'he', 'encountered', 'a', 'diverse', 'array', 'of', 'character', ',', 'from', 'noble', 'king', 'to', 'humble', 'peasant', ',', 'each', 'teaching', 'him', 'valuable', 'lesson', 'about', 'the', 'nature', 'of', 'humanity', 'and', 'the', 'importance', 'of', 'empathy', 'and', 'understanding', '.', 'Through', 'his', 'experience', ',', 'Hercules', 'grew', 'not', 'only', 'in', 'strength', 'but', 'also', 'in', 'wisdom', ',', 'learning', 'to', 'temper', 'his', 'power', 'with', 'compassion', 'and', 'humility', '.', 'No', 'longer', 'driven', 'solely', 'by', 'a', 'desire', 'for', 'glory', 'and', 'recognition', ',', 'he', 'dedicated', 'himself', 'to', 'serving', 'others', ',', 'using', 'his', 'gift', 'to', 'protect', 'the', 'weak', 'and', 'uphold', 'justice', 'wherever', 'he', 'went', '.', 'But', 'even', 'a', 'he', 'embarked', 'on', 'his', 'quest', 'to', 'make', 'the', 'world', 'a', 'better', 'place', ',', 'Hercules', 'remained', 'haunted', 'by', 'the', 'ghost', 'of', 'his', 'past', ',', 'the', 'memory', 'of', 'his', 'past', 'deed', 'serving', 'a', 'a', 'constant', 'reminder', 'of', 'the', 'darkness', 'that', 'lurked', 'within', 'him', '.', 'And', 'yet', ',', 'it', 'wa', 'precisely', 'this', 'darkness', 'that', 'drove', 'him', 'to', 'strive', 'for', 'greater', 'height', ',', 'to', 'become', 'the', 'hero', 'that', 'Greece', 'needed', 'in', 'it', 'darkest', 'hour', '.', 'And', 'so', ',', 'a', 'Hercules', 'entered', 'into', 'adulthood', ',', 'he', 'did', 'so', 'not', 'a', 'a', 'mere', 'mortal', 'man', ',', 'but', 'a', 'a', 'living', 'legend', ',', 'a', 'symbol', 'of', 'hope', 'and', 'inspiration', 'to', 'all', 'who', 'knew', 'his', 'name', '.', 'Though', 'his', 'journey', 'had', 'been', 'long', 'and', 'arduous', ',', 'he', 'knew', 'that', 'the', 'greatest', 'challenge', 'still', 'lay', 'ahead', ',', 'waiting', 'to', 'test', 'his', 'courage', 'and', 'resolve', 'in', 'way', 'that', 'he', 'could', 'scarcely', 'imagine', '.', 'But', 'with', 'the', 'lesson', 'of', 'his', 'youth', 'to', 'guide', 'him', 'and', 'the', 'strength', 'of', 'his', 'heart', 'to', 'sustain', 'him', ',', 'Hercules', 'faced', 'the', 'future', 'with', 'unwavering', 'determination', ',', 'ready', 'to', 'embrace', 'whatever', 'trial', 'may', 'come', 'his', 'way', '.', 'For', 'he', 'knew', 'that', 'true', 'greatness', 'lay', 'not', 'in', 'the', 'glory', 'of', 'victory', ',', 'but', 'in', 'the', 'courage', 'to', 'face', 'adversity', 'with', 'grace', 'and', 'humility', ',', 'a', 'lesson', 'that', 'he', 'had', 'learned', 'time', 'and', 'time', 'again', 'on', 'his', 'journey', 'from', 'boyhood', 'to', 'adulthood', '.']\n"
     ]
    }
   ],
   "source": [
    "print(\"Lemmatized Tokens:\", lemmed_words)"
   ]
  },
  {
   "cell_type": "code",
   "execution_count": 16,
   "metadata": {},
   "outputs": [
    {
     "name": "stdout",
     "output_type": "stream",
     "text": [
      "Filtered Tokens : ['ancient', 'land', 'Greece', ',', 'nestled', 'among', 'rugged', 'mountains', 'shimmering', 'seas', ',', 'lived', 'boy', 'named', 'Hercules', '.', 'earliest', 'days', ',', 'destined', 'greatness', ',', 'though', 'path', 'fraught', 'trials', 'tribulations', 'would', 'shape', 'legendary', 'hero', 'would', 'become', '.', 'Born', 'Alcmene', ',', 'mortal', 'woman', ',', 'Zeus', ',', 'king', 'gods', ',', 'Hercules', 'imbued', 'immense', 'strength', 'courage', '.', 'However', ',', 'divine', 'heritage', 'would', 'bring', 'blessings', 'curses', 'upon', 'life', '.', 'boy', ',', 'Hercules', 'grew', 'humble', 'village', 'Tiryns', ',', 'surrounded', 'towering', 'cliffs', 'lush', 'greenery', '.', 'Despite', 'extraordinary', 'strength', ',', 'gentle', 'kind-hearted', ',', 'always', 'willing', 'lend', 'hand', 'need', '.', 'grew', 'older', ',', 'power', 'became', 'difficult', 'control', ',', 'often', 'leading', 'unintended', 'chaos', 'destruction', '.', 'One', 'fateful', 'day', ',', 'playing', 'friends', 'fields', ',', 'ferocious', 'lion', 'emerged', 'nearby', 'forest', ',', 'menacing', 'roar', 'echoing', 'valley', '.', 'villagers', 'cowered', 'fear', ',', 'Hercules', 'stood', 'ground', ',', 'muscles', 'tensing', 'prepared', 'face', 'beast', '.', 'mighty', 'roar', ',', 'Hercules', 'charged', 'forward', ',', 'fists', 'clenched', 'tightly', 'grappled', 'lion', '.', 'Despite', 'size', 'strength', ',', 'refused', 'back', ',', 'determination', 'driving', 'overcome', 'seemingly', 'insurmountable', 'foe', '.', 'fierce', 'struggle', ',', 'Hercules', 'emerged', 'victorious', ',', 'lion', 'lying', 'lifeless', 'feet', '.', 'villagers', 'cheered', 'name', ',', 'hailing', 'hero', ',', 'Hercules', 'knew', 'journey', 'far', '.', 'encounter', 'lion', 'beginning', 'trials', '.', 'grew', 'adolescence', ',', 'Hercules', 'sought', 'harness', 'strength', 'greater', 'good', ',', 'embarking', 'series', 'adventures', 'would', 'test', 'courage', 'resilience', '.', 'battling', 'fearsome', 'monsters', 'navigating', 'treacherous', 'landscapes', ',', 'faced', 'challenge', 'unwavering', 'determination', ',', 'never', 'faltering', 'quest', 'prove', 'worthy', 'divine', 'heritage', '.', 'amidst', 'triumphs', ',', 'Hercules', 'also', 'grappled', 'darker', 'aspects', 'nature', ',', 'struggling', 'control', 'rage', 'impulsiveness', 'often', 'threatened', 'consume', '.', 'encounters', 'adversity', 'served', 'constant', 'reminder', 'fragile', 'balance', 'mortal', 'immortal', 'selves', ',', 'balance', 'would', 'spend', 'lifetime', 'trying', 'reconcile', '.', 'One', 'Hercules', \"'\", 'renowned', 'exploits', 'Twelve', 'Labors', ',', 'series', 'seemingly', 'impossible', 'tasks', 'bestowed', 'upon', 'King', 'Eurystheus', 'punishment', 'crime', 'committed', 'fit', 'madness', '.', 'slaying', 'Nemean', 'Lion', 'capturing', 'Golden', 'Hind', ',', 'labor', 'pushed', 'Hercules', 'limits', 'strength', 'endurance', ',', 'testing', 'physical', 'prowess', 'also', 'ingenuity', 'resourcefulness', '.', 'Yet', ',', 'despite', 'enormity', 'trials', ',', 'Hercules', 'faced', 'challenge', 'unwavering', 'resolve', ',', 'refusing', 'daunted', 'obstacles', 'lay', '.', 'help', 'loyal', 'companion', ',', 'Iolaus', ',', 'guidance', 'wise', 'centaur', 'Chiron', ',', 'persevered', 'hardship', 'adversity', ',', 'emerging', 'victorious', 'time', 'time', '.', 'perhaps', 'Hercules', \"'\", 'greatest', 'trial', 'came', 'form', 'mortality', ',', 'fate', 'could', 'escape', 'matter', 'mighty', 'strength', 'noble', 'deeds', '.', 'moment', 'weakness', 'despair', ',', 'unwittingly', 'unleashed', 'fury', 'upon', 'loved', ',', 'causing', 'untold', 'suffering', 'anguish', 'wake', '.', 'Haunted', 'guilt', 'remorse', ',', 'Hercules', 'embarked', 'quest', 'redemption', ',', 'seeking', 'atone', 'past', 'transgressions', 'find', 'solace', 'embrace', 'loved', 'ones', '.', 'Along', 'way', ',', 'encountered', 'myriad', 'challenges', 'obstacles', ',', 'serving', 'reminder', 'frailty', 'human', 'nature', 'power', 'forgiveness', '.', 'end', ',', 'Hercules', \"'\", 'journey', 'defined', 'extraordinary', 'feats', 'legendary', 'status', ',', 'lessons', 'learned', 'bonds', 'forged', 'along', 'way', '.', 'hardship', 'adversity', ',', 'discovered', 'true', 'measure', 'heroism', 'lies', 'strength', 'one', \"'s\", 'arm', ',', 'courage', 'one', \"'s\", 'heart', '.', ',', 'Hercules', 'stood', 'upon', 'precipice', 'adulthood', ',', 'gazing', 'vast', 'expanse', 'world', ',', 'knew', 'journey', 'far', '.', 'trials', 'awaited', 'would', 'test', 'strength', 'valor', 'also', 'resilience', 'compassion', ',', 'shaping', 'hero', 'destined', 'become', '.', 'years', 'passed', ',', 'Hercules', 'continued', 'roam', 'land', ',', 'seeking', 'new', 'adventures', 'challenges', 'wherever', 'may', 'lie', '.', 'Along', 'way', ',', 'encountered', 'diverse', 'array', 'characters', ',', 'noble', 'kings', 'humble', 'peasants', ',', 'teaching', 'valuable', 'lessons', 'nature', 'humanity', 'importance', 'empathy', 'understanding', '.', 'experiences', ',', 'Hercules', 'grew', 'strength', 'also', 'wisdom', ',', 'learning', 'temper', 'power', 'compassion', 'humility', '.', 'longer', 'driven', 'solely', 'desire', 'glory', 'recognition', ',', 'dedicated', 'serving', 'others', ',', 'using', 'gifts', 'protect', 'weak', 'uphold', 'justice', 'wherever', 'went', '.', 'even', 'embarked', 'quest', 'make', 'world', 'better', 'place', ',', 'Hercules', 'remained', 'haunted', 'ghosts', 'past', ',', 'memories', 'past', 'deeds', 'serving', 'constant', 'reminder', 'darkness', 'lurked', 'within', '.', 'yet', ',', 'precisely', 'darkness', 'drove', 'strive', 'greater', 'heights', ',', 'become', 'hero', 'Greece', 'needed', 'darkest', 'hour', '.', ',', 'Hercules', 'entered', 'adulthood', ',', 'mere', 'mortal', 'man', ',', 'living', 'legend', ',', 'symbol', 'hope', 'inspiration', 'knew', 'name', '.', 'Though', 'journey', 'long', 'arduous', ',', 'knew', 'greatest', 'challenges', 'still', 'lay', 'ahead', ',', 'waiting', 'test', 'courage', 'resolve', 'ways', 'could', 'scarcely', 'imagine', '.', 'lessons', 'youth', 'guide', 'strength', 'heart', 'sustain', ',', 'Hercules', 'faced', 'future', 'unwavering', 'determination', ',', 'ready', 'embrace', 'whatever', 'trials', 'may', 'come', 'way', '.', 'knew', 'true', 'greatness', 'lay', 'glory', 'victory', ',', 'courage', 'face', 'adversity', 'grace', 'humility', ',', 'lesson', 'learned', 'time', 'time', 'journey', 'boyhood', 'adulthood', '.']\n"
     ]
    }
   ],
   "source": [
    "print(\"Filtered Tokens :\", filter_of_words)"
   ]
  },
  {
   "cell_type": "code",
   "execution_count": 17,
   "metadata": {},
   "outputs": [
    {
     "name": "stdout",
     "output_type": "stream",
     "text": [
      "Part-of-Speech Tags: [('In', 'IN'), ('the', 'DT'), ('ancient', 'JJ'), ('land', 'NN'), ('of', 'IN'), ('Greece', 'NNP'), (',', ','), ('nestled', 'VBD'), ('among', 'IN'), ('the', 'DT'), ('rugged', 'NN'), ('mountains', 'NNS'), ('and', 'CC'), ('shimmering', 'VBG'), ('seas', 'NNS'), (',', ','), ('lived', 'VBD'), ('a', 'DT'), ('boy', 'NN'), ('named', 'VBN'), ('Hercules', 'NNP'), ('.', '.'), ('From', 'IN'), ('his', 'PRP$'), ('earliest', 'JJS'), ('days', 'NNS'), (',', ','), ('he', 'PRP'), ('was', 'VBD'), ('destined', 'VBN'), ('for', 'IN'), ('greatness', 'NN'), (',', ','), ('though', 'IN'), ('his', 'PRP$'), ('path', 'NN'), ('was', 'VBD'), ('fraught', 'JJ'), ('with', 'IN'), ('trials', 'NNS'), ('and', 'CC'), ('tribulations', 'NNS'), ('that', 'WDT'), ('would', 'MD'), ('shape', 'VB'), ('him', 'PRP'), ('into', 'IN'), ('the', 'DT'), ('legendary', 'JJ'), ('hero', 'NN'), ('he', 'PRP'), ('would', 'MD'), ('become', 'VB'), ('.', '.'), ('Born', 'NNP'), ('to', 'TO'), ('Alcmene', 'NNP'), (',', ','), ('a', 'DT'), ('mortal', 'JJ'), ('woman', 'NN'), (',', ','), ('and', 'CC'), ('Zeus', 'NNP'), (',', ','), ('the', 'DT'), ('king', 'NN'), ('of', 'IN'), ('the', 'DT'), ('gods', 'NNS'), (',', ','), ('Hercules', 'NNP'), ('was', 'VBD'), ('imbued', 'VBN'), ('with', 'IN'), ('immense', 'JJ'), ('strength', 'NN'), ('and', 'CC'), ('courage', 'NN'), ('.', '.'), ('However', 'RB'), (',', ','), ('his', 'PRP$'), ('divine', 'JJ'), ('heritage', 'NN'), ('would', 'MD'), ('bring', 'VB'), ('both', 'DT'), ('blessings', 'NNS'), ('and', 'CC'), ('curses', 'NNS'), ('upon', 'IN'), ('his', 'PRP$'), ('life', 'NN'), ('.', '.'), ('As', 'IN'), ('a', 'DT'), ('boy', 'NN'), (',', ','), ('Hercules', 'NNP'), ('grew', 'VBD'), ('up', 'RP'), ('in', 'IN'), ('the', 'DT'), ('humble', 'JJ'), ('village', 'NN'), ('of', 'IN'), ('Tiryns', 'NNP'), (',', ','), ('surrounded', 'VBN'), ('by', 'IN'), ('towering', 'VBG'), ('cliffs', 'NNS'), ('and', 'CC'), ('lush', 'JJ'), ('greenery', 'NN'), ('.', '.'), ('Despite', 'IN'), ('his', 'PRP$'), ('extraordinary', 'JJ'), ('strength', 'NN'), (',', ','), ('he', 'PRP'), ('was', 'VBD'), ('gentle', 'JJ'), ('and', 'CC'), ('kind-hearted', 'JJ'), (',', ','), ('always', 'RB'), ('willing', 'JJ'), ('to', 'TO'), ('lend', 'VB'), ('a', 'DT'), ('hand', 'NN'), ('to', 'TO'), ('those', 'DT'), ('in', 'IN'), ('need', 'NN'), ('.', '.'), ('But', 'CC'), ('as', 'IN'), ('he', 'PRP'), ('grew', 'VBD'), ('older', 'JJR'), (',', ','), ('his', 'PRP$'), ('power', 'NN'), ('became', 'VBD'), ('more', 'RBR'), ('difficult', 'JJ'), ('to', 'TO'), ('control', 'VB'), (',', ','), ('often', 'RB'), ('leading', 'VBG'), ('to', 'TO'), ('unintended', 'JJ'), ('chaos', 'NN'), ('and', 'CC'), ('destruction', 'NN'), ('.', '.'), ('One', 'CD'), ('fateful', 'JJ'), ('day', 'NN'), (',', ','), ('while', 'IN'), ('playing', 'VBG'), ('with', 'IN'), ('his', 'PRP$'), ('friends', 'NNS'), ('in', 'IN'), ('the', 'DT'), ('fields', 'NNS'), (',', ','), ('a', 'DT'), ('ferocious', 'JJ'), ('lion', 'NN'), ('emerged', 'VBD'), ('from', 'IN'), ('the', 'DT'), ('nearby', 'JJ'), ('forest', 'NN'), (',', ','), ('its', 'PRP$'), ('menacing', 'VBG'), ('roar', 'NN'), ('echoing', 'VBG'), ('through', 'IN'), ('the', 'DT'), ('valley', 'NN'), ('.', '.'), ('The', 'DT'), ('villagers', 'NNS'), ('cowered', 'VBD'), ('in', 'IN'), ('fear', 'NN'), (',', ','), ('but', 'CC'), ('Hercules', 'NNP'), ('stood', 'VBD'), ('his', 'PRP$'), ('ground', 'NN'), (',', ','), ('his', 'PRP$'), ('muscles', 'NNS'), ('tensing', 'VBG'), ('as', 'IN'), ('he', 'PRP'), ('prepared', 'VBD'), ('to', 'TO'), ('face', 'VB'), ('the', 'DT'), ('beast', 'NN'), ('.', '.'), ('With', 'IN'), ('a', 'DT'), ('mighty', 'JJ'), ('roar', 'NN'), ('of', 'IN'), ('his', 'PRP$'), ('own', 'JJ'), (',', ','), ('Hercules', 'NNP'), ('charged', 'VBD'), ('forward', 'RB'), (',', ','), ('his', 'PRP$'), ('fists', 'NNS'), ('clenched', 'VBD'), ('tightly', 'RB'), ('as', 'IN'), ('he', 'PRP'), ('grappled', 'VBD'), ('with', 'IN'), ('the', 'DT'), ('lion', 'NN'), ('.', '.'), ('Despite', 'IN'), ('its', 'PRP$'), ('size', 'NN'), ('and', 'CC'), ('strength', 'NN'), (',', ','), ('he', 'PRP'), ('refused', 'VBD'), ('to', 'TO'), ('back', 'VB'), ('down', 'RP'), (',', ','), ('his', 'PRP$'), ('determination', 'NN'), ('driving', 'VBG'), ('him', 'PRP'), ('to', 'TO'), ('overcome', 'VB'), ('the', 'DT'), ('seemingly', 'RB'), ('insurmountable', 'JJ'), ('foe', 'NN'), ('.', '.'), ('After', 'IN'), ('a', 'DT'), ('fierce', 'JJ'), ('struggle', 'NN'), (',', ','), ('Hercules', 'NNP'), ('emerged', 'VBD'), ('victorious', 'JJ'), (',', ','), ('the', 'DT'), ('lion', 'NN'), ('lying', 'VBG'), ('lifeless', 'NN'), ('at', 'IN'), ('his', 'PRP$'), ('feet', 'NNS'), ('.', '.'), ('The', 'DT'), ('villagers', 'NNS'), ('cheered', 'VBD'), ('his', 'PRP$'), ('name', 'NN'), (',', ','), ('hailing', 'VBG'), ('him', 'PRP'), ('as', 'IN'), ('a', 'DT'), ('hero', 'NN'), (',', ','), ('but', 'CC'), ('Hercules', 'NNP'), ('knew', 'VBD'), ('that', 'IN'), ('his', 'PRP$'), ('journey', 'NN'), ('was', 'VBD'), ('far', 'RB'), ('from', 'IN'), ('over', 'IN'), ('.', '.'), ('His', 'PRP$'), ('encounter', 'NN'), ('with', 'IN'), ('the', 'DT'), ('lion', 'NN'), ('was', 'VBD'), ('just', 'RB'), ('the', 'DT'), ('beginning', 'NN'), ('of', 'IN'), ('his', 'PRP$'), ('trials', 'NNS'), ('.', '.'), ('As', 'IN'), ('he', 'PRP'), ('grew', 'VBD'), ('into', 'IN'), ('adolescence', 'NN'), (',', ','), ('Hercules', 'NNP'), ('sought', 'VBD'), ('to', 'TO'), ('harness', 'VB'), ('his', 'PRP$'), ('strength', 'NN'), ('for', 'IN'), ('the', 'DT'), ('greater', 'JJR'), ('good', 'JJ'), (',', ','), ('embarking', 'VBG'), ('on', 'IN'), ('a', 'DT'), ('series', 'NN'), ('of', 'IN'), ('adventures', 'NNS'), ('that', 'WDT'), ('would', 'MD'), ('test', 'VB'), ('his', 'PRP$'), ('courage', 'NN'), ('and', 'CC'), ('resilience', 'NN'), ('.', '.'), ('From', 'IN'), ('battling', 'VBG'), ('fearsome', 'JJ'), ('monsters', 'NNS'), ('to', 'TO'), ('navigating', 'VBG'), ('treacherous', 'JJ'), ('landscapes', 'NNS'), (',', ','), ('he', 'PRP'), ('faced', 'VBD'), ('each', 'DT'), ('challenge', 'NN'), ('with', 'IN'), ('unwavering', 'JJ'), ('determination', 'NN'), (',', ','), ('never', 'RB'), ('faltering', 'VBG'), ('in', 'IN'), ('his', 'PRP$'), ('quest', 'NN'), ('to', 'TO'), ('prove', 'VB'), ('himself', 'PRP'), ('worthy', 'NN'), ('of', 'IN'), ('his', 'PRP$'), ('divine', 'NN'), ('heritage', 'NN'), ('.', '.'), ('But', 'CC'), ('amidst', 'VBD'), ('his', 'PRP$'), ('triumphs', 'NN'), (',', ','), ('Hercules', 'NNP'), ('also', 'RB'), ('grappled', 'VBD'), ('with', 'IN'), ('the', 'DT'), ('darker', 'NN'), ('aspects', 'NNS'), ('of', 'IN'), ('his', 'PRP$'), ('nature', 'NN'), (',', ','), ('struggling', 'VBG'), ('to', 'TO'), ('control', 'VB'), ('the', 'DT'), ('rage', 'NN'), ('and', 'CC'), ('impulsiveness', 'NN'), ('that', 'WDT'), ('often', 'RB'), ('threatened', 'VBD'), ('to', 'TO'), ('consume', 'VB'), ('him', 'PRP'), ('.', '.'), ('His', 'PRP$'), ('encounters', 'NNS'), ('with', 'IN'), ('adversity', 'NN'), ('served', 'VBN'), ('as', 'IN'), ('a', 'DT'), ('constant', 'JJ'), ('reminder', 'NN'), ('of', 'IN'), ('the', 'DT'), ('fragile', 'JJ'), ('balance', 'NN'), ('between', 'IN'), ('his', 'PRP$'), ('mortal', 'NN'), ('and', 'CC'), ('immortal', 'JJ'), ('selves', 'NNS'), (',', ','), ('a', 'DT'), ('balance', 'NN'), ('that', 'IN'), ('he', 'PRP'), ('would', 'MD'), ('spend', 'VB'), ('a', 'DT'), ('lifetime', 'NN'), ('trying', 'VBG'), ('to', 'TO'), ('reconcile', 'VB'), ('.', '.'), ('One', 'CD'), ('of', 'IN'), ('Hercules', 'NNP'), (\"'\", 'POS'), ('most', 'RBS'), ('renowned', 'JJ'), ('exploits', 'NNS'), ('was', 'VBD'), ('his', 'PRP$'), ('Twelve', 'NN'), ('Labors', 'NNPS'), (',', ','), ('a', 'DT'), ('series', 'NN'), ('of', 'IN'), ('seemingly', 'RB'), ('impossible', 'JJ'), ('tasks', 'NNS'), ('bestowed', 'VBN'), ('upon', 'IN'), ('him', 'PRP'), ('by', 'IN'), ('King', 'VBG'), ('Eurystheus', 'NNP'), ('as', 'IN'), ('punishment', 'NN'), ('for', 'IN'), ('a', 'DT'), ('crime', 'NN'), ('committed', 'VBN'), ('in', 'IN'), ('a', 'DT'), ('fit', 'NN'), ('of', 'IN'), ('madness', 'NN'), ('.', '.'), ('From', 'IN'), ('slaying', 'VBG'), ('the', 'DT'), ('Nemean', 'NNP'), ('Lion', 'NNP'), ('to', 'TO'), ('capturing', 'VBG'), ('the', 'DT'), ('Golden', 'NNP'), ('Hind', 'NNP'), (',', ','), ('each', 'DT'), ('labor', 'NN'), ('pushed', 'VBD'), ('Hercules', 'NNP'), ('to', 'TO'), ('the', 'DT'), ('limits', 'NNS'), ('of', 'IN'), ('his', 'PRP$'), ('strength', 'NN'), ('and', 'CC'), ('endurance', 'NN'), (',', ','), ('testing', 'VBG'), ('not', 'RB'), ('only', 'RB'), ('his', 'PRP$'), ('physical', 'JJ'), ('prowess', 'NN'), ('but', 'CC'), ('also', 'RB'), ('his', 'PRP$'), ('ingenuity', 'NN'), ('and', 'CC'), ('resourcefulness', 'NN'), ('.', '.'), ('Yet', 'CC'), (',', ','), ('despite', 'IN'), ('the', 'DT'), ('enormity', 'NN'), ('of', 'IN'), ('his', 'PRP$'), ('trials', 'NNS'), (',', ','), ('Hercules', 'NNP'), ('faced', 'VBD'), ('each', 'DT'), ('challenge', 'NN'), ('with', 'IN'), ('unwavering', 'JJ'), ('resolve', 'NN'), (',', ','), ('refusing', 'VBG'), ('to', 'TO'), ('be', 'VB'), ('daunted', 'VBN'), ('by', 'IN'), ('the', 'DT'), ('obstacles', 'NNS'), ('that', 'WDT'), ('lay', 'VBD'), ('before', 'IN'), ('him', 'PRP'), ('.', '.'), ('With', 'IN'), ('the', 'DT'), ('help', 'NN'), ('of', 'IN'), ('his', 'PRP$'), ('loyal', 'JJ'), ('companion', 'NN'), (',', ','), ('Iolaus', 'NNP'), (',', ','), ('and', 'CC'), ('the', 'DT'), ('guidance', 'NN'), ('of', 'IN'), ('the', 'DT'), ('wise', 'NN'), ('centaur', 'NN'), ('Chiron', 'NNP'), (',', ','), ('he', 'PRP'), ('persevered', 'VBD'), ('through', 'IN'), ('hardship', 'NN'), ('and', 'CC'), ('adversity', 'NN'), (',', ','), ('emerging', 'VBG'), ('victorious', 'JJ'), ('time', 'NN'), ('and', 'CC'), ('time', 'NN'), ('again', 'RB'), ('.', '.'), ('But', 'CC'), ('perhaps', 'RB'), ('Hercules', 'NNP'), (\"'\", 'POS'), ('greatest', 'JJS'), ('trial', 'NN'), ('came', 'VBD'), ('in', 'IN'), ('the', 'DT'), ('form', 'NN'), ('of', 'IN'), ('his', 'PRP$'), ('own', 'JJ'), ('mortality', 'NN'), (',', ','), ('a', 'DT'), ('fate', 'NN'), ('that', 'IN'), ('he', 'PRP'), ('could', 'MD'), ('not', 'RB'), ('escape', 'VB'), ('no', 'DT'), ('matter', 'NN'), ('how', 'WRB'), ('mighty', 'VB'), ('his', 'PRP$'), ('strength', 'NN'), ('or', 'CC'), ('how', 'WRB'), ('noble', 'JJ'), ('his', 'PRP$'), ('deeds', 'NNS'), ('.', '.'), ('In', 'IN'), ('a', 'DT'), ('moment', 'NN'), ('of', 'IN'), ('weakness', 'NN'), ('and', 'CC'), ('despair', 'NN'), (',', ','), ('he', 'PRP'), ('unwittingly', 'RB'), ('unleashed', 'VBD'), ('his', 'PRP$'), ('fury', 'NN'), ('upon', 'IN'), ('those', 'DT'), ('he', 'PRP'), ('loved', 'VBD'), ('most', 'JJS'), (',', ','), ('causing', 'VBG'), ('untold', 'JJ'), ('suffering', 'NN'), ('and', 'CC'), ('anguish', 'NN'), ('in', 'IN'), ('his', 'PRP$'), ('wake', 'NN'), ('.', '.'), ('Haunted', 'VBN'), ('by', 'IN'), ('guilt', 'NN'), ('and', 'CC'), ('remorse', 'NN'), (',', ','), ('Hercules', 'NNP'), ('embarked', 'VBD'), ('on', 'IN'), ('a', 'DT'), ('quest', 'NN'), ('for', 'IN'), ('redemption', 'NN'), (',', ','), ('seeking', 'VBG'), ('to', 'TO'), ('atone', 'VB'), ('for', 'IN'), ('his', 'PRP$'), ('past', 'JJ'), ('transgressions', 'NNS'), ('and', 'CC'), ('find', 'VB'), ('solace', 'NN'), ('in', 'IN'), ('the', 'DT'), ('embrace', 'NN'), ('of', 'IN'), ('his', 'PRP$'), ('loved', 'JJ'), ('ones', 'NNS'), ('.', '.'), ('Along', 'IN'), ('the', 'DT'), ('way', 'NN'), (',', ','), ('he', 'PRP'), ('encountered', 'VBD'), ('a', 'DT'), ('myriad', 'NN'), ('of', 'IN'), ('challenges', 'NNS'), ('and', 'CC'), ('obstacles', 'NNS'), (',', ','), ('each', 'DT'), ('serving', 'NN'), ('as', 'IN'), ('a', 'DT'), ('reminder', 'NN'), ('of', 'IN'), ('the', 'DT'), ('frailty', 'NN'), ('of', 'IN'), ('human', 'JJ'), ('nature', 'NN'), ('and', 'CC'), ('the', 'DT'), ('power', 'NN'), ('of', 'IN'), ('forgiveness', 'NN'), ('.', '.'), ('In', 'IN'), ('the', 'DT'), ('end', 'NN'), (',', ','), ('Hercules', 'NNP'), (\"'\", 'POS'), ('journey', 'NN'), ('was', 'VBD'), ('not', 'RB'), ('defined', 'VBN'), ('by', 'IN'), ('his', 'PRP$'), ('extraordinary', 'JJ'), ('feats', 'NNS'), ('or', 'CC'), ('his', 'PRP$'), ('legendary', 'JJ'), ('status', 'NN'), (',', ','), ('but', 'CC'), ('by', 'IN'), ('the', 'DT'), ('lessons', 'NNS'), ('he', 'PRP'), ('learned', 'VBD'), ('and', 'CC'), ('the', 'DT'), ('bonds', 'NNS'), ('he', 'PRP'), ('forged', 'VBD'), ('along', 'IN'), ('the', 'DT'), ('way', 'NN'), ('.', '.'), ('Through', 'IN'), ('hardship', 'NN'), ('and', 'CC'), ('adversity', 'NN'), (',', ','), ('he', 'PRP'), ('discovered', 'VBD'), ('the', 'DT'), ('true', 'JJ'), ('measure', 'NN'), ('of', 'IN'), ('heroism', 'NN'), ('lies', 'VBZ'), ('not', 'RB'), ('in', 'IN'), ('the', 'DT'), ('strength', 'NN'), ('of', 'IN'), ('one', 'CD'), (\"'s\", 'POS'), ('arm', 'NN'), (',', ','), ('but', 'CC'), ('in', 'IN'), ('the', 'DT'), ('courage', 'NN'), ('of', 'IN'), ('one', 'CD'), (\"'s\", 'POS'), ('heart', 'NN'), ('.', '.'), ('And', 'CC'), ('so', 'RB'), (',', ','), ('as', 'IN'), ('Hercules', 'NNP'), ('stood', 'VBD'), ('upon', 'IN'), ('the', 'DT'), ('precipice', 'NN'), ('of', 'IN'), ('adulthood', 'NN'), (',', ','), ('gazing', 'VBG'), ('out', 'RP'), ('at', 'IN'), ('the', 'DT'), ('vast', 'JJ'), ('expanse', 'NN'), ('of', 'IN'), ('the', 'DT'), ('world', 'NN'), ('before', 'IN'), ('him', 'PRP'), (',', ','), ('he', 'PRP'), ('knew', 'VBD'), ('that', 'IN'), ('his', 'PRP$'), ('journey', 'NN'), ('was', 'VBD'), ('far', 'RB'), ('from', 'IN'), ('over', 'IN'), ('.', '.'), ('For', 'IN'), ('the', 'DT'), ('trials', 'NNS'), ('that', 'WDT'), ('awaited', 'VBD'), ('him', 'PRP'), ('would', 'MD'), ('not', 'RB'), ('only', 'RB'), ('test', 'VB'), ('his', 'PRP$'), ('strength', 'NN'), ('and', 'CC'), ('valor', 'NN'), ('but', 'CC'), ('also', 'RB'), ('his', 'PRP$'), ('resilience', 'NN'), ('and', 'CC'), ('compassion', 'NN'), (',', ','), ('shaping', 'VBG'), ('him', 'PRP'), ('into', 'IN'), ('the', 'DT'), ('hero', 'NN'), ('that', 'IN'), ('he', 'PRP'), ('was', 'VBD'), ('destined', 'VBN'), ('to', 'TO'), ('become', 'VB'), ('.', '.'), ('As', 'IN'), ('the', 'DT'), ('years', 'NNS'), ('passed', 'VBD'), (',', ','), ('Hercules', 'NNP'), ('continued', 'VBD'), ('to', 'TO'), ('roam', 'VB'), ('the', 'DT'), ('land', 'NN'), (',', ','), ('seeking', 'VBG'), ('out', 'RP'), ('new', 'JJ'), ('adventures', 'NNS'), ('and', 'CC'), ('challenges', 'NNS'), ('wherever', 'IN'), ('they', 'PRP'), ('may', 'MD'), ('lie', 'VB'), ('.', '.'), ('Along', 'IN'), ('the', 'DT'), ('way', 'NN'), (',', ','), ('he', 'PRP'), ('encountered', 'VBD'), ('a', 'DT'), ('diverse', 'JJ'), ('array', 'NN'), ('of', 'IN'), ('characters', 'NNS'), (',', ','), ('from', 'IN'), ('noble', 'JJ'), ('kings', 'NNS'), ('to', 'TO'), ('humble', 'JJ'), ('peasants', 'NNS'), (',', ','), ('each', 'DT'), ('teaching', 'VBG'), ('him', 'PRP'), ('valuable', 'JJ'), ('lessons', 'NNS'), ('about', 'IN'), ('the', 'DT'), ('nature', 'NN'), ('of', 'IN'), ('humanity', 'NN'), ('and', 'CC'), ('the', 'DT'), ('importance', 'NN'), ('of', 'IN'), ('empathy', 'JJ'), ('and', 'CC'), ('understanding', 'JJ'), ('.', '.'), ('Through', 'IN'), ('his', 'PRP$'), ('experiences', 'NNS'), (',', ','), ('Hercules', 'NNP'), ('grew', 'VBD'), ('not', 'RB'), ('only', 'RB'), ('in', 'IN'), ('strength', 'NN'), ('but', 'CC'), ('also', 'RB'), ('in', 'IN'), ('wisdom', 'NN'), (',', ','), ('learning', 'VBG'), ('to', 'TO'), ('temper', 'VB'), ('his', 'PRP$'), ('power', 'NN'), ('with', 'IN'), ('compassion', 'NN'), ('and', 'CC'), ('humility', 'NN'), ('.', '.'), ('No', 'RB'), ('longer', 'RBR'), ('driven', 'RB'), ('solely', 'RB'), ('by', 'IN'), ('a', 'DT'), ('desire', 'NN'), ('for', 'IN'), ('glory', 'NN'), ('and', 'CC'), ('recognition', 'NN'), (',', ','), ('he', 'PRP'), ('dedicated', 'VBD'), ('himself', 'PRP'), ('to', 'TO'), ('serving', 'VBG'), ('others', 'NNS'), (',', ','), ('using', 'VBG'), ('his', 'PRP$'), ('gifts', 'NNS'), ('to', 'TO'), ('protect', 'VB'), ('the', 'DT'), ('weak', 'JJ'), ('and', 'CC'), ('uphold', 'JJ'), ('justice', 'NN'), ('wherever', 'NN'), ('he', 'PRP'), ('went', 'VBD'), ('.', '.'), ('But', 'CC'), ('even', 'RB'), ('as', 'IN'), ('he', 'PRP'), ('embarked', 'VBD'), ('on', 'IN'), ('his', 'PRP$'), ('quest', 'JJS'), ('to', 'TO'), ('make', 'VB'), ('the', 'DT'), ('world', 'NN'), ('a', 'DT'), ('better', 'JJR'), ('place', 'NN'), (',', ','), ('Hercules', 'NNP'), ('remained', 'VBD'), ('haunted', 'VBN'), ('by', 'IN'), ('the', 'DT'), ('ghosts', 'NNS'), ('of', 'IN'), ('his', 'PRP$'), ('past', 'NN'), (',', ','), ('the', 'DT'), ('memories', 'NNS'), ('of', 'IN'), ('his', 'PRP$'), ('past', 'JJ'), ('deeds', 'NNS'), ('serving', 'VBG'), ('as', 'IN'), ('a', 'DT'), ('constant', 'JJ'), ('reminder', 'NN'), ('of', 'IN'), ('the', 'DT'), ('darkness', 'NN'), ('that', 'WDT'), ('lurked', 'VBD'), ('within', 'IN'), ('him', 'PRP'), ('.', '.'), ('And', 'CC'), ('yet', 'RB'), (',', ','), ('it', 'PRP'), ('was', 'VBD'), ('precisely', 'RB'), ('this', 'DT'), ('darkness', 'NN'), ('that', 'WDT'), ('drove', 'VBD'), ('him', 'PRP'), ('to', 'TO'), ('strive', 'VB'), ('for', 'IN'), ('greater', 'JJR'), ('heights', 'NNS'), (',', ','), ('to', 'TO'), ('become', 'VB'), ('the', 'DT'), ('hero', 'NN'), ('that', 'WDT'), ('Greece', 'NNP'), ('needed', 'VBD'), ('in', 'IN'), ('its', 'PRP$'), ('darkest', 'JJS'), ('hour', 'NN'), ('.', '.'), ('And', 'CC'), ('so', 'RB'), (',', ','), ('as', 'IN'), ('Hercules', 'NNP'), ('entered', 'VBD'), ('into', 'IN'), ('adulthood', 'NN'), (',', ','), ('he', 'PRP'), ('did', 'VBD'), ('so', 'RB'), ('not', 'RB'), ('as', 'IN'), ('a', 'DT'), ('mere', 'JJ'), ('mortal', 'JJ'), ('man', 'NN'), (',', ','), ('but', 'CC'), ('as', 'IN'), ('a', 'DT'), ('living', 'NN'), ('legend', 'NN'), (',', ','), ('a', 'DT'), ('symbol', 'NN'), ('of', 'IN'), ('hope', 'NN'), ('and', 'CC'), ('inspiration', 'NN'), ('to', 'TO'), ('all', 'DT'), ('who', 'WP'), ('knew', 'VBD'), ('his', 'PRP$'), ('name', 'NN'), ('.', '.'), ('Though', 'IN'), ('his', 'PRP$'), ('journey', 'NN'), ('had', 'VBD'), ('been', 'VBN'), ('long', 'RB'), ('and', 'CC'), ('arduous', 'JJ'), (',', ','), ('he', 'PRP'), ('knew', 'VBD'), ('that', 'IN'), ('the', 'DT'), ('greatest', 'JJS'), ('challenges', 'NNS'), ('still', 'RB'), ('lay', 'VBP'), ('ahead', 'RB'), (',', ','), ('waiting', 'VBG'), ('to', 'TO'), ('test', 'VB'), ('his', 'PRP$'), ('courage', 'NN'), ('and', 'CC'), ('resolve', 'VB'), ('in', 'IN'), ('ways', 'NNS'), ('that', 'IN'), ('he', 'PRP'), ('could', 'MD'), ('scarcely', 'RB'), ('imagine', 'VB'), ('.', '.'), ('But', 'CC'), ('with', 'IN'), ('the', 'DT'), ('lessons', 'NNS'), ('of', 'IN'), ('his', 'PRP$'), ('youth', 'NN'), ('to', 'TO'), ('guide', 'VB'), ('him', 'PRP'), ('and', 'CC'), ('the', 'DT'), ('strength', 'NN'), ('of', 'IN'), ('his', 'PRP$'), ('heart', 'NN'), ('to', 'TO'), ('sustain', 'VB'), ('him', 'PRP'), (',', ','), ('Hercules', 'NNP'), ('faced', 'VBD'), ('the', 'DT'), ('future', 'NN'), ('with', 'IN'), ('unwavering', 'JJ'), ('determination', 'NN'), (',', ','), ('ready', 'JJ'), ('to', 'TO'), ('embrace', 'VB'), ('whatever', 'WDT'), ('trials', 'NNS'), ('may', 'MD'), ('come', 'VB'), ('his', 'PRP$'), ('way', 'NN'), ('.', '.'), ('For', 'IN'), ('he', 'PRP'), ('knew', 'VBD'), ('that', 'IN'), ('true', 'JJ'), ('greatness', 'NN'), ('lay', 'VBD'), ('not', 'RB'), ('in', 'IN'), ('the', 'DT'), ('glory', 'NN'), ('of', 'IN'), ('victory', 'NN'), (',', ','), ('but', 'CC'), ('in', 'IN'), ('the', 'DT'), ('courage', 'NN'), ('to', 'TO'), ('face', 'VB'), ('adversity', 'NN'), ('with', 'IN'), ('grace', 'NN'), ('and', 'CC'), ('humility', 'NN'), (',', ','), ('a', 'DT'), ('lesson', 'NN'), ('that', 'IN'), ('he', 'PRP'), ('had', 'VBD'), ('learned', 'VBN'), ('time', 'NN'), ('and', 'CC'), ('time', 'NN'), ('again', 'RB'), ('on', 'IN'), ('his', 'PRP$'), ('journey', 'NN'), ('from', 'IN'), ('boyhood', 'NN'), ('to', 'TO'), ('adulthood', 'NN'), ('.', '.')]\n"
     ]
    }
   ],
   "source": [
    "print(\"Part-of-Speech Tags:\", pos_tag)"
   ]
  },
  {
   "cell_type": "code",
   "execution_count": 21,
   "metadata": {},
   "outputs": [
    {
     "name": "stdout",
     "output_type": "stream",
     "text": [
      "Named,Entities:\n",
      "GPE Greece\n",
      "PERSON Hercules\n",
      "PERSON Born\n",
      "GPE Alcmene\n",
      "PERSON Zeus\n",
      "PERSON Hercules\n",
      "PERSON Hercules\n",
      "GPE Tiryns\n",
      "PERSON Hercules\n",
      "PERSON Hercules\n",
      "PERSON Hercules\n",
      "PERSON Hercules\n",
      "PERSON Hercules\n",
      "PERSON Hercules\n",
      "PERSON Hercules\n",
      "ORGANIZATION Twelve Labors\n",
      "PERSON Eurystheus\n",
      "ORGANIZATION Nemean Lion\n",
      "ORGANIZATION Golden Hind\n",
      "PERSON Hercules\n",
      "PERSON Hercules\n",
      "GPE Iolaus\n",
      "GPE Chiron\n",
      "PERSON Hercules\n",
      "PERSON Hercules\n",
      "PERSON Hercules\n",
      "PERSON Hercules\n",
      "PERSON Hercules\n",
      "PERSON Hercules\n",
      "PERSON Hercules\n",
      "GPE Greece\n",
      "PERSON Hercules\n",
      "PERSON Hercules\n"
     ]
    }
   ],
   "source": [
    "ner_tags = ne_chunk(pos_tag)\n",
    "print(\"Named,Entities:\")\n",
    "for chunk in ner_tags:\n",
    "    if hasattr(chunk, 'label'):\n",
    "        print(chunk.label(),' '.join(c[0] for c in chunk))"
   ]
  },
  {
   "cell_type": "code",
   "execution_count": null,
   "metadata": {},
   "outputs": [],
   "source": []
  },
  {
   "cell_type": "code",
   "execution_count": null,
   "metadata": {},
   "outputs": [],
   "source": []
  },
  {
   "cell_type": "code",
   "execution_count": null,
   "metadata": {},
   "outputs": [],
   "source": []
  }
 ],
 "metadata": {
  "kernelspec": {
   "display_name": "base",
   "language": "python",
   "name": "python3"
  },
  "language_info": {
   "codemirror_mode": {
    "name": "ipython",
    "version": 3
   },
   "file_extension": ".py",
   "mimetype": "text/x-python",
   "name": "python",
   "nbconvert_exporter": "python",
   "pygments_lexer": "ipython3",
   "version": "3.11.5"
  }
 },
 "nbformat": 4,
 "nbformat_minor": 2
}
