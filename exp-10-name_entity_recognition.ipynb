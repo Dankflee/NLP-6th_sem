{
 "cells": [
  {
   "cell_type": "code",
   "execution_count": 1,
   "id": "ead2dcff",
   "metadata": {},
   "outputs": [],
   "source": [
    "import nltk\n",
    "from nltk.corpus import stopwords\n",
    "from nltk.tokenize import word_tokenize\n",
    "from nltk.stem import PorterStemmer, WordNetLemmatizer\n",
    "from nltk import ne_chunk"
   ]
  },
  {
   "cell_type": "code",
   "execution_count": 2,
   "id": "7fb60106",
   "metadata": {},
   "outputs": [
    {
     "name": "stderr",
     "output_type": "stream",
     "text": [
      "[nltk_data] Downloading package punkt to\n",
      "[nltk_data]     /Users/shreyaspandey/nltk_data...\n",
      "[nltk_data]   Package punkt is already up-to-date!\n",
      "[nltk_data] Downloading package wordnet to\n",
      "[nltk_data]     /Users/shreyaspandey/nltk_data...\n",
      "[nltk_data]   Package wordnet is already up-to-date!\n",
      "[nltk_data] Downloading package stopwords to\n",
      "[nltk_data]     /Users/shreyaspandey/nltk_data...\n",
      "[nltk_data]   Package stopwords is already up-to-date!\n",
      "[nltk_data] Downloading package averaged_perceptron_tagger to\n",
      "[nltk_data]     /Users/shreyaspandey/nltk_data...\n",
      "[nltk_data]   Package averaged_perceptron_tagger is already up-to-\n",
      "[nltk_data]       date!\n",
      "[nltk_data] Downloading package maxent_ne_chunker to\n",
      "[nltk_data]     /Users/shreyaspandey/nltk_data...\n",
      "[nltk_data]   Unzipping chunkers/maxent_ne_chunker.zip.\n",
      "[nltk_data] Downloading package words to\n",
      "[nltk_data]     /Users/shreyaspandey/nltk_data...\n",
      "[nltk_data]   Unzipping corpora/words.zip.\n"
     ]
    },
    {
     "data": {
      "text/plain": [
       "True"
      ]
     },
     "execution_count": 2,
     "metadata": {},
     "output_type": "execute_result"
    }
   ],
   "source": [
    "nltk.download('punkt')\n",
    "nltk.download('wordnet')\n",
    "nltk.download('stopwords')\n",
    "nltk.download('averaged_perceptron_tagger')\n",
    "nltk.download('maxent_ne_chunker')\n",
    "nltk.download('words')"
   ]
  },
  {
   "cell_type": "code",
   "execution_count": 3,
   "id": "11c73dd4",
   "metadata": {},
   "outputs": [],
   "source": [
    "text = \"\"\"\n",
    "this is Tajmehal Computer science is a dynamic and ever-evolving field that encompasses the study of algorithms, data structures, programming languages, and the theoretical foundations of computing. It plays a pivotal role in shaping the modern world, driving innovation across various industries. Computer scientists analyze and solve complex problems, develop cutting-edge software, and design efficient algorithms to enhance computational capabilities. From artificial intelligence and machine learning to cybersecurity and software engineering, computer science influences nearly every aspect of our daily lives. As technology continues to advance, the field of computer science remains at the forefront, paving the way for transformative breakthroughs and shaping the digital landscape of the future.\n",
    "\"\"\""
   ]
  },
  {
   "cell_type": "code",
   "execution_count": 4,
   "id": "1dbbe3da",
   "metadata": {},
   "outputs": [],
   "source": [
    "tokens = word_tokenize(text)"
   ]
  },
  {
   "cell_type": "code",
   "execution_count": 5,
   "id": "346ba295",
   "metadata": {},
   "outputs": [],
   "source": [
    "stemmer = PorterStemmer()\n",
    "stemmed_tokens = [stemmer.stem(token) for token in tokens]"
   ]
  },
  {
   "cell_type": "code",
   "execution_count": 6,
   "id": "d3645335",
   "metadata": {},
   "outputs": [],
   "source": [
    "lemmatizer = WordNetLemmatizer()\n",
    "lemmatized_tokens = [lemmatizer.lemmatize(token) for token in tokens]"
   ]
  },
  {
   "cell_type": "code",
   "execution_count": 7,
   "id": "2e704df3",
   "metadata": {},
   "outputs": [],
   "source": [
    "stop_words = set(stopwords.words('english'))\n",
    "filtered_tokens = [token for token in tokens if token.lower() not in stop_words]"
   ]
  },
  {
   "cell_type": "code",
   "execution_count": 8,
   "id": "a06526ec",
   "metadata": {},
   "outputs": [],
   "source": [
    "pos_tags = nltk.pos_tag(tokens)"
   ]
  },
  {
   "cell_type": "code",
   "execution_count": 9,
   "id": "fa257deb",
   "metadata": {},
   "outputs": [],
   "source": [
    "ner_tags = ne_chunk(pos_tags)"
   ]
  },
  {
   "cell_type": "code",
   "execution_count": 10,
   "id": "e0e3ff64",
   "metadata": {},
   "outputs": [
    {
     "name": "stdout",
     "output_type": "stream",
     "text": [
      "Tokens: ['this', 'is', 'Tajmehal', 'Computer', 'science', 'is', 'a', 'dynamic', 'and', 'ever-evolving', 'field', 'that', 'encompasses', 'the', 'study', 'of', 'algorithms', ',', 'data', 'structures', ',', 'programming', 'languages', ',', 'and', 'the', 'theoretical', 'foundations', 'of', 'computing', '.', 'It', 'plays', 'a', 'pivotal', 'role', 'in', 'shaping', 'the', 'modern', 'world', ',', 'driving', 'innovation', 'across', 'various', 'industries', '.', 'Computer', 'scientists', 'analyze', 'and', 'solve', 'complex', 'problems', ',', 'develop', 'cutting-edge', 'software', ',', 'and', 'design', 'efficient', 'algorithms', 'to', 'enhance', 'computational', 'capabilities', '.', 'From', 'artificial', 'intelligence', 'and', 'machine', 'learning', 'to', 'cybersecurity', 'and', 'software', 'engineering', ',', 'computer', 'science', 'influences', 'nearly', 'every', 'aspect', 'of', 'our', 'daily', 'lives', '.', 'As', 'technology', 'continues', 'to', 'advance', ',', 'the', 'field', 'of', 'computer', 'science', 'remains', 'at', 'the', 'forefront', ',', 'paving', 'the', 'way', 'for', 'transformative', 'breakthroughs', 'and', 'shaping', 'the', 'digital', 'landscape', 'of', 'the', 'future', '.']\n"
     ]
    }
   ],
   "source": [
    "print(\"Tokens:\", tokens)"
   ]
  },
  {
   "cell_type": "code",
   "execution_count": 11,
   "id": "de6c7113",
   "metadata": {},
   "outputs": [
    {
     "name": "stdout",
     "output_type": "stream",
     "text": [
      "Stemmed Tokens: ['thi', 'is', 'tajmeh', 'comput', 'scienc', 'is', 'a', 'dynam', 'and', 'ever-evolv', 'field', 'that', 'encompass', 'the', 'studi', 'of', 'algorithm', ',', 'data', 'structur', ',', 'program', 'languag', ',', 'and', 'the', 'theoret', 'foundat', 'of', 'comput', '.', 'it', 'play', 'a', 'pivot', 'role', 'in', 'shape', 'the', 'modern', 'world', ',', 'drive', 'innov', 'across', 'variou', 'industri', '.', 'comput', 'scientist', 'analyz', 'and', 'solv', 'complex', 'problem', ',', 'develop', 'cutting-edg', 'softwar', ',', 'and', 'design', 'effici', 'algorithm', 'to', 'enhanc', 'comput', 'capabl', '.', 'from', 'artifici', 'intellig', 'and', 'machin', 'learn', 'to', 'cybersecur', 'and', 'softwar', 'engin', ',', 'comput', 'scienc', 'influenc', 'nearli', 'everi', 'aspect', 'of', 'our', 'daili', 'live', '.', 'as', 'technolog', 'continu', 'to', 'advanc', ',', 'the', 'field', 'of', 'comput', 'scienc', 'remain', 'at', 'the', 'forefront', ',', 'pave', 'the', 'way', 'for', 'transform', 'breakthrough', 'and', 'shape', 'the', 'digit', 'landscap', 'of', 'the', 'futur', '.']\n"
     ]
    }
   ],
   "source": [
    "print(\"Stemmed Tokens:\", stemmed_tokens)"
   ]
  },
  {
   "cell_type": "code",
   "execution_count": 12,
   "id": "8101f74b",
   "metadata": {},
   "outputs": [
    {
     "name": "stdout",
     "output_type": "stream",
     "text": [
      "Lemmatized Tokens: ['this', 'is', 'Tajmehal', 'Computer', 'science', 'is', 'a', 'dynamic', 'and', 'ever-evolving', 'field', 'that', 'encompasses', 'the', 'study', 'of', 'algorithm', ',', 'data', 'structure', ',', 'programming', 'language', ',', 'and', 'the', 'theoretical', 'foundation', 'of', 'computing', '.', 'It', 'play', 'a', 'pivotal', 'role', 'in', 'shaping', 'the', 'modern', 'world', ',', 'driving', 'innovation', 'across', 'various', 'industry', '.', 'Computer', 'scientist', 'analyze', 'and', 'solve', 'complex', 'problem', ',', 'develop', 'cutting-edge', 'software', ',', 'and', 'design', 'efficient', 'algorithm', 'to', 'enhance', 'computational', 'capability', '.', 'From', 'artificial', 'intelligence', 'and', 'machine', 'learning', 'to', 'cybersecurity', 'and', 'software', 'engineering', ',', 'computer', 'science', 'influence', 'nearly', 'every', 'aspect', 'of', 'our', 'daily', 'life', '.', 'As', 'technology', 'continues', 'to', 'advance', ',', 'the', 'field', 'of', 'computer', 'science', 'remains', 'at', 'the', 'forefront', ',', 'paving', 'the', 'way', 'for', 'transformative', 'breakthrough', 'and', 'shaping', 'the', 'digital', 'landscape', 'of', 'the', 'future', '.']\n"
     ]
    }
   ],
   "source": [
    "print(\"Lemmatized Tokens:\", lemmatized_tokens)"
   ]
  },
  {
   "cell_type": "code",
   "execution_count": 13,
   "id": "53ac52a9",
   "metadata": {},
   "outputs": [
    {
     "name": "stdout",
     "output_type": "stream",
     "text": [
      "Filtered Tokens : ['Tajmehal', 'Computer', 'science', 'dynamic', 'ever-evolving', 'field', 'encompasses', 'study', 'algorithms', ',', 'data', 'structures', ',', 'programming', 'languages', ',', 'theoretical', 'foundations', 'computing', '.', 'plays', 'pivotal', 'role', 'shaping', 'modern', 'world', ',', 'driving', 'innovation', 'across', 'various', 'industries', '.', 'Computer', 'scientists', 'analyze', 'solve', 'complex', 'problems', ',', 'develop', 'cutting-edge', 'software', ',', 'design', 'efficient', 'algorithms', 'enhance', 'computational', 'capabilities', '.', 'artificial', 'intelligence', 'machine', 'learning', 'cybersecurity', 'software', 'engineering', ',', 'computer', 'science', 'influences', 'nearly', 'every', 'aspect', 'daily', 'lives', '.', 'technology', 'continues', 'advance', ',', 'field', 'computer', 'science', 'remains', 'forefront', ',', 'paving', 'way', 'transformative', 'breakthroughs', 'shaping', 'digital', 'landscape', 'future', '.']\n"
     ]
    }
   ],
   "source": [
    "print(\"Filtered Tokens :\", filtered_tokens)"
   ]
  },
  {
   "cell_type": "code",
   "execution_count": 14,
   "id": "7c91b5ba",
   "metadata": {},
   "outputs": [
    {
     "name": "stdout",
     "output_type": "stream",
     "text": [
      "Part-of-Speech Tags: [('this', 'DT'), ('is', 'VBZ'), ('Tajmehal', 'NNP'), ('Computer', 'NNP'), ('science', 'NN'), ('is', 'VBZ'), ('a', 'DT'), ('dynamic', 'JJ'), ('and', 'CC'), ('ever-evolving', 'JJ'), ('field', 'NN'), ('that', 'WDT'), ('encompasses', 'VBZ'), ('the', 'DT'), ('study', 'NN'), ('of', 'IN'), ('algorithms', 'NN'), (',', ','), ('data', 'NN'), ('structures', 'NNS'), (',', ','), ('programming', 'VBG'), ('languages', 'NNS'), (',', ','), ('and', 'CC'), ('the', 'DT'), ('theoretical', 'JJ'), ('foundations', 'NNS'), ('of', 'IN'), ('computing', 'VBG'), ('.', '.'), ('It', 'PRP'), ('plays', 'VBZ'), ('a', 'DT'), ('pivotal', 'JJ'), ('role', 'NN'), ('in', 'IN'), ('shaping', 'VBG'), ('the', 'DT'), ('modern', 'JJ'), ('world', 'NN'), (',', ','), ('driving', 'VBG'), ('innovation', 'NN'), ('across', 'IN'), ('various', 'JJ'), ('industries', 'NNS'), ('.', '.'), ('Computer', 'NNP'), ('scientists', 'NNS'), ('analyze', 'VBP'), ('and', 'CC'), ('solve', 'VBP'), ('complex', 'JJ'), ('problems', 'NNS'), (',', ','), ('develop', 'VB'), ('cutting-edge', 'NN'), ('software', 'NN'), (',', ','), ('and', 'CC'), ('design', 'NN'), ('efficient', 'JJ'), ('algorithms', 'NN'), ('to', 'TO'), ('enhance', 'VB'), ('computational', 'JJ'), ('capabilities', 'NNS'), ('.', '.'), ('From', 'IN'), ('artificial', 'JJ'), ('intelligence', 'NN'), ('and', 'CC'), ('machine', 'NN'), ('learning', 'NN'), ('to', 'TO'), ('cybersecurity', 'NN'), ('and', 'CC'), ('software', 'NN'), ('engineering', 'NN'), (',', ','), ('computer', 'NN'), ('science', 'NN'), ('influences', 'NNS'), ('nearly', 'RB'), ('every', 'DT'), ('aspect', 'NN'), ('of', 'IN'), ('our', 'PRP$'), ('daily', 'JJ'), ('lives', 'NNS'), ('.', '.'), ('As', 'IN'), ('technology', 'NN'), ('continues', 'VBZ'), ('to', 'TO'), ('advance', 'VB'), (',', ','), ('the', 'DT'), ('field', 'NN'), ('of', 'IN'), ('computer', 'NN'), ('science', 'NN'), ('remains', 'VBZ'), ('at', 'IN'), ('the', 'DT'), ('forefront', 'NN'), (',', ','), ('paving', 'VBG'), ('the', 'DT'), ('way', 'NN'), ('for', 'IN'), ('transformative', 'JJ'), ('breakthroughs', 'NNS'), ('and', 'CC'), ('shaping', 'VBG'), ('the', 'DT'), ('digital', 'JJ'), ('landscape', 'NN'), ('of', 'IN'), ('the', 'DT'), ('future', 'NN'), ('.', '.')]\n"
     ]
    }
   ],
   "source": [
    "print(\"Part-of-Speech Tags:\", pos_tags)"
   ]
  },
  {
   "cell_type": "code",
   "execution_count": 15,
   "id": "e822dd30",
   "metadata": {},
   "outputs": [
    {
     "name": "stdout",
     "output_type": "stream",
     "text": [
      "Named Entities:\n",
      "PERSON Tajmehal Computer\n",
      "ORGANIZATION Computer\n"
     ]
    }
   ],
   "source": [
    "ner_tags = ne_chunk(pos_tags)\n",
    "print(\"Named Entities:\")\n",
    "for chunk in ner_tags:\n",
    "    if hasattr(chunk, 'label'):\n",
    "        print(chunk.label(), ' '.join(c[0] for c in chunk))"
   ]
  }
 ],
 "metadata": {
  "kernelspec": {
   "display_name": "Python 3 (ipykernel)",
   "language": "python",
   "name": "python3"
  },
  "language_info": {
   "codemirror_mode": {
    "name": "ipython",
    "version": 3
   },
   "file_extension": ".py",
   "mimetype": "text/x-python",
   "name": "python",
   "nbconvert_exporter": "python",
   "pygments_lexer": "ipython3",
   "version": "3.11.5"
  }
 },
 "nbformat": 4,
 "nbformat_minor": 5
}
