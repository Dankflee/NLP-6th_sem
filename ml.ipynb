{
 "cells": [
  {
   "cell_type": "code",
   "execution_count": 4,
   "metadata": {},
   "outputs": [
    {
     "name": "stdout",
     "output_type": "stream",
     "text": [
      "Sentiment: Positive\n",
      "{'neg': 0.0, 'neu': 0.4, 'pos': 0.6, 'compound': 0.6696}\n"
     ]
    }
   ],
   "source": [
    "import nltk\n",
    "from nltk.sentiment import SentimentIntensityAnalyzer\n",
    "\n",
    "analyzer = SentimentIntensityAnalyzer()\n",
    "\n",
    "def get_sentiment(text):\n",
    "\n",
    "  scores = analyzer.polarity_scores(text)\n",
    "  return scores\n",
    "\n",
    "text = \"I love this new phone!\"\n",
    "sentiment = get_sentiment(text)\n",
    "\n",
    "if sentiment['pos'] > sentiment['neg']:\n",
    "  print(\"Sentiment: Positive\")\n",
    "elif sentiment['neg'] > sentiment['pos']:\n",
    "  print(\"Sentiment: Negative\")\n",
    "else:\n",
    "  print(\"Sentiment: Neutral\")\n",
    "\n",
    "print(sentiment)\n"
   ]
  },
  {
   "cell_type": "code",
   "execution_count": 7,
   "metadata": {},
   "outputs": [
    {
     "name": "stdout",
     "output_type": "stream",
     "text": [
      "Predicted sentiment for I regrect buying this new phone! : Positive\n"
     ]
    }
   ],
   "source": [
    "from sklearn.feature_extraction.text import TfidfVectorizer\n",
    "from sklearn.svm import SVC\n",
    "\n",
    "data = [\n",
    "  (\"The food was delicious and the service was excellent. I will definitely be back!\", \"Positive\"),\n",
    "  (\"This movie was a total disappointment. The acting was terrible and the plot was predictable.\", \"Negative\"),\n",
    "  (\"The hotel was okay, but the room was a bit small. Overall, it was an average experience.\", \"Neutral\"),\n",
    "  (\"I love this new phone! It's so fast and the camera is amazing.\", \"Positive\"),\n",
    "  (\"The product arrived damaged and customer service was unhelpful. Very frustrating experience.\", \"Negative\"),\n",
    "]\n",
    "\n",
    "reviews = [text for text, _ in data]\n",
    "sentiments = [sentiment for _, sentiment in data]\n",
    "\n",
    "\n",
    "vectorizer = TfidfVectorizer()\n",
    "features = vectorizer.fit_transform(reviews)\n",
    "\n",
    "clf = SVC(kernel='linear') \n",
    "clf.fit(features, sentiments)\n",
    "\n",
    "new_review = \"I regrect buying this new phone!\"\n",
    "new_features = vectorizer.transform([new_review])\n",
    "predicted_sentiment = clf.predict(new_features)[0]\n",
    "\n",
    "\n",
    "print(\"Predicted sentiment for\", new_review, \":\", predicted_sentiment)\n"
   ]
  },
  {
   "cell_type": "code",
   "execution_count": null,
   "metadata": {},
   "outputs": [],
   "source": []
  }
 ],
 "metadata": {
  "kernelspec": {
   "display_name": "base",
   "language": "python",
   "name": "python3"
  },
  "language_info": {
   "codemirror_mode": {
    "name": "ipython",
    "version": 3
   },
   "file_extension": ".py",
   "mimetype": "text/x-python",
   "name": "python",
   "nbconvert_exporter": "python",
   "pygments_lexer": "ipython3",
   "version": "3.11.5"
  }
 },
 "nbformat": 4,
 "nbformat_minor": 2
}
